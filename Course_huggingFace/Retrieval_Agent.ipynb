{
 "cells": [
  {
   "cell_type": "code",
   "execution_count": 8,
   "id": "07c91607",
   "metadata": {},
   "outputs": [
    {
     "data": {
      "application/vnd.jupyter.widget-view+json": {
       "model_id": "6842c9d233f24507bdbb08654b2b62ed",
       "version_major": 2,
       "version_minor": 0
      },
      "text/plain": [
       "VBox(children=(HTML(value='<center> <img\\nsrc=https://huggingface.co/front/assets/huggingface_logo-noborder.sv…"
      ]
     },
     "metadata": {},
     "output_type": "display_data"
    }
   ],
   "source": [
    "from huggingface_hub import login\n",
    "login()  # Zadaj svoj Hugging Face token"
   ]
  },
  {
   "cell_type": "markdown",
   "id": "64fb0ac5",
   "metadata": {},
   "source": [
    "### RAG - Retrieval Augmented Generation  \n",
    "**Kombinuje capabilities of data retrieval and generation models to provide context-aware responses.**\n",
    "\n",
    "**For example, a user’s query is passed to a search engine, and the retrieved results are given to the model along with the query.**"
   ]
  },
  {
   "cell_type": "markdown",
   "id": "3aea2978",
   "metadata": {},
   "source": [
    "### AGENTIC RAG  \n",
    " kombinacia autonomnych agentov a dynamicke ziskavanie znalosti"
   ]
  },
  {
   "cell_type": "markdown",
   "id": "718a7686",
   "metadata": {},
   "source": [
    "### RAG - traditional LLM\n",
    "### Agentic RAG - control of retrieval and generation processes"
   ]
  },
  {
   "cell_type": "code",
   "execution_count": 12,
   "id": "97e990a2",
   "metadata": {},
   "outputs": [
    {
     "data": {
      "text/html": [
       "<pre style=\"white-space:pre;overflow-x:auto;line-height:normal;font-family:Menlo,'DejaVu Sans Mono',consolas,'Courier New',monospace\"><span style=\"color: #d4b702; text-decoration-color: #d4b702\">╭──────────────────────────────────────────────────── </span><span style=\"color: #d4b702; text-decoration-color: #d4b702; font-weight: bold\">New run</span><span style=\"color: #d4b702; text-decoration-color: #d4b702\"> ────────────────────────────────────────────────────╮</span>\n",
       "<span style=\"color: #d4b702; text-decoration-color: #d4b702\">│</span>                                                                                                                 <span style=\"color: #d4b702; text-decoration-color: #d4b702\">│</span>\n",
       "<span style=\"color: #d4b702; text-decoration-color: #d4b702\">│</span> <span style=\"font-weight: bold\">Search for luxury superhero-themed party ideas, including decorations, entertainment, and catering.</span>             <span style=\"color: #d4b702; text-decoration-color: #d4b702\">│</span>\n",
       "<span style=\"color: #d4b702; text-decoration-color: #d4b702\">│</span>                                                                                                                 <span style=\"color: #d4b702; text-decoration-color: #d4b702\">│</span>\n",
       "<span style=\"color: #d4b702; text-decoration-color: #d4b702\">╰─ InferenceClientModel - Qwen/Qwen2.5-Coder-32B-Instruct ────────────────────────────────────────────────────────╯</span>\n",
       "</pre>\n"
      ],
      "text/plain": [
       "\u001b[38;2;212;183;2m╭─\u001b[0m\u001b[38;2;212;183;2m───────────────────────────────────────────────────\u001b[0m\u001b[38;2;212;183;2m \u001b[0m\u001b[1;38;2;212;183;2mNew run\u001b[0m\u001b[38;2;212;183;2m \u001b[0m\u001b[38;2;212;183;2m───────────────────────────────────────────────────\u001b[0m\u001b[38;2;212;183;2m─╮\u001b[0m\n",
       "\u001b[38;2;212;183;2m│\u001b[0m                                                                                                                 \u001b[38;2;212;183;2m│\u001b[0m\n",
       "\u001b[38;2;212;183;2m│\u001b[0m \u001b[1mSearch for luxury superhero-themed party ideas, including decorations, entertainment, and catering.\u001b[0m             \u001b[38;2;212;183;2m│\u001b[0m\n",
       "\u001b[38;2;212;183;2m│\u001b[0m                                                                                                                 \u001b[38;2;212;183;2m│\u001b[0m\n",
       "\u001b[38;2;212;183;2m╰─\u001b[0m\u001b[38;2;212;183;2m InferenceClientModel - Qwen/Qwen2.5-Coder-32B-Instruct \u001b[0m\u001b[38;2;212;183;2m───────────────────────────────────────────────────────\u001b[0m\u001b[38;2;212;183;2m─╯\u001b[0m\n"
      ]
     },
     "metadata": {},
     "output_type": "display_data"
    },
    {
     "data": {
      "text/html": [
       "<pre style=\"white-space:pre;overflow-x:auto;line-height:normal;font-family:Menlo,'DejaVu Sans Mono',consolas,'Courier New',monospace\"><span style=\"color: #d4b702; text-decoration-color: #d4b702\">━━━━━━━━━━━━━━━━━━━━━━━━━━━━━━━━━━━━━━━━━━━━━━━━━━━━━ </span><span style=\"font-weight: bold\">Step </span><span style=\"color: #008080; text-decoration-color: #008080; font-weight: bold\">1</span><span style=\"color: #d4b702; text-decoration-color: #d4b702\"> ━━━━━━━━━━━━━━━━━━━━━━━━━━━━━━━━━━━━━━━━━━━━━━━━━━━━━━</span>\n",
       "</pre>\n"
      ],
      "text/plain": [
       "\u001b[38;2;212;183;2m━━━━━━━━━━━━━━━━━━━━━━━━━━━━━━━━━━━━━━━━━━━━━━━━━━━━━ \u001b[0m\u001b[1mStep \u001b[0m\u001b[1;36m1\u001b[0m\u001b[38;2;212;183;2m ━━━━━━━━━━━━━━━━━━━━━━━━━━━━━━━━━━━━━━━━━━━━━━━━━━━━━━\u001b[0m\n"
      ]
     },
     "metadata": {},
     "output_type": "display_data"
    },
    {
     "data": {
      "text/html": [
       "<pre style=\"white-space:pre;overflow-x:auto;line-height:normal;font-family:Menlo,'DejaVu Sans Mono',consolas,'Courier New',monospace\"> ─ <span style=\"font-weight: bold\">Executing parsed code:</span> ──────────────────────────────────────────────────────────────────────────────────────── \n",
       "  <span style=\"color: #f8f8f2; text-decoration-color: #f8f8f2; background-color: #272822\">luxury_superhero_party_ideas </span><span style=\"color: #ff4689; text-decoration-color: #ff4689; background-color: #272822\">=</span><span style=\"color: #f8f8f2; text-decoration-color: #f8f8f2; background-color: #272822\"> web_search(query</span><span style=\"color: #ff4689; text-decoration-color: #ff4689; background-color: #272822\">=</span><span style=\"color: #e6db74; text-decoration-color: #e6db74; background-color: #272822\">\"luxury superhero-themed party ideas\"</span><span style=\"color: #f8f8f2; text-decoration-color: #f8f8f2; background-color: #272822\">)</span><span style=\"background-color: #272822\">                         </span>  \n",
       "  <span style=\"color: #f8f8f2; text-decoration-color: #f8f8f2; background-color: #272822\">print(luxury_superhero_party_ideas)</span><span style=\"background-color: #272822\">                                                                            </span>  \n",
       " ───────────────────────────────────────────────────────────────────────────────────────────────────────────────── \n",
       "</pre>\n"
      ],
      "text/plain": [
       " ─ \u001b[1mExecuting parsed code:\u001b[0m ──────────────────────────────────────────────────────────────────────────────────────── \n",
       "  \u001b[38;2;248;248;242;48;2;39;40;34mluxury_superhero_party_ideas\u001b[0m\u001b[38;2;248;248;242;48;2;39;40;34m \u001b[0m\u001b[38;2;255;70;137;48;2;39;40;34m=\u001b[0m\u001b[38;2;248;248;242;48;2;39;40;34m \u001b[0m\u001b[38;2;248;248;242;48;2;39;40;34mweb_search\u001b[0m\u001b[38;2;248;248;242;48;2;39;40;34m(\u001b[0m\u001b[38;2;248;248;242;48;2;39;40;34mquery\u001b[0m\u001b[38;2;255;70;137;48;2;39;40;34m=\u001b[0m\u001b[38;2;230;219;116;48;2;39;40;34m\"\u001b[0m\u001b[38;2;230;219;116;48;2;39;40;34mluxury superhero-themed party ideas\u001b[0m\u001b[38;2;230;219;116;48;2;39;40;34m\"\u001b[0m\u001b[38;2;248;248;242;48;2;39;40;34m)\u001b[0m\u001b[48;2;39;40;34m                         \u001b[0m  \n",
       "  \u001b[38;2;248;248;242;48;2;39;40;34mprint\u001b[0m\u001b[38;2;248;248;242;48;2;39;40;34m(\u001b[0m\u001b[38;2;248;248;242;48;2;39;40;34mluxury_superhero_party_ideas\u001b[0m\u001b[38;2;248;248;242;48;2;39;40;34m)\u001b[0m\u001b[48;2;39;40;34m                                                                            \u001b[0m  \n",
       " ───────────────────────────────────────────────────────────────────────────────────────────────────────────────── \n"
      ]
     },
     "metadata": {},
     "output_type": "display_data"
    },
    {
     "data": {
      "text/html": [
       "<pre style=\"white-space:pre;overflow-x:auto;line-height:normal;font-family:Menlo,'DejaVu Sans Mono',consolas,'Courier New',monospace\"><span style=\"font-weight: bold\">Execution logs:</span>\n",
       "## Search Results\n",
       "\n",
       "[Superhero Theme Party Ideas for Adults to Create an Unforgettable \n",
       "...](https://partyideaszone.com/superhero-theme-party-ideas-for-adults/)\n",
       "Unleash your inner hero with our ultimate guide to hosting an unforgettable superhero-themed party for adults! \n",
       "Explore creative costume ideas, vibrant decorations, and mouthwatering themed snacks and drinks. Engage your guests\n",
       "with fun activities like trivia, costume contests, and movie screenings. Follow our planning tips to create a \n",
       "cohesive, memorable experience that your friends will rave ...\n",
       "\n",
       "[21 Hilarious Superhero Party Games Kids &amp; Adults Will Both \n",
       "Love](https://www.playpartyplan.com/superhero-minute-to-win-it-games-for-kids/)\n",
       "Entertain your family and friends with these hilarious superhero minute to win it games with items from home! \n",
       "Superhero party games everyone will love no matter their age! Superhero games inspired by The Avengers, Justice \n",
       "League superheroes, and more!\n",
       "\n",
       "[Superhero-Themed Party Ideas &amp; Decorations | \n",
       "CORKCICLE.](https://corkcicle.com/blogs/lifestyle/marvel-themed-party-ideas)\n",
       "Superhero-themed parties have become a beloved trend, offering an exciting way to celebrate special occasions. The \n",
       "thrill of donning capes and masks, the vibrant decorations, and the heroic atmosphere make these parties a hit \n",
       "among kids and adults alike. In this guide, we'll explore Marvel superhero party ideas, ensuring your celebration \n",
       "is as epic as the comics and movies themselves ...\n",
       "\n",
       "[30+ Superhero Party Ideas - Canva](https://www.canva.com/ideas/superhero-party-ideas/)\n",
       "Bright-colored capes, superhero masks for everyone, colorful hero cupcakes - all these ingenious concepts and more \n",
       "are in our special selection of superhero-themed designs and photos. Have a quick browse and find some excellent \n",
       "ideas for your party!\n",
       "\n",
       "[33 Superhero Party Games for Adults - Fun Party Pop](https://funpartypop.com/superhero-party-games-adults/)\n",
       "To my surprise, lots of adults had an equal, if not greater, love for superheroes. This is awesome! Who said kids \n",
       "get all the cool stuff, huh? Because of this, I decided my next birthday would be superhero themed. So today, I \n",
       "have gathered some of the best superhero party games for adults that I could find. Check them out!\n",
       "\n",
       "[24 Superhero Party Ideas that Will Make You Wish You Were a \n",
       "Kid](https://howdoesshe.com/24-incredible-superhero-party-ideas-that-will-make-you-wish-you-were-a-kid-again/)\n",
       "24 incredible superhero party ideas that kids will love and make adults wish they were kids again. From decor \n",
       "ideas, party foods, and costume ideas to superhero-themed activities, we have all of your party needs covered.\n",
       "\n",
       "[The Best Superhero Party Ideas For An Epic Party](https://smartpartyplanning.com/superhero-party-ideas/)\n",
       "Win the status of supermom with these superhero party ideas. Includes ideas for decorations, food and party games \n",
       "that kids will love.\n",
       "\n",
       "[30+ Easy Superhero Party Ideas You Can Perfect on a \n",
       "Budget](https://www.frugalcouponliving.com/superhero-party-ideas/)\n",
       "Host a superhero-themed party that is sure to be a hit without a ton of time, money, or effort. Enjoy the best DIY \n",
       "superhero party ideas, recipes, décor, &amp; games to make party planning easy-peasy.\n",
       "\n",
       "[Superhero Party Ideas | PartyWizz Blog](https://partywizz.com/blog/family/party-ideas/superhero-party-ideas/)\n",
       "Use superhero-themed paper party bags - Amazon have a good selection - or keep costs down with plain paper bags and\n",
       "decorate/personalise them yourself. This is a task you could definitely delegate to your own small superhero!\n",
       "\n",
       "[By a Pro: Superhero Party Ideas by a Professional](https://party-ideas-by-a-pro.com/party-themes/superhero-party/)\n",
       "The Superhero party ideas below were mainly designed with a kid's birthday in mind. However, a lot of the ideas \n",
       "could easily be adapted for an adult costume party so I've also included some tips and supplies specifically for \n",
       "adults—such as cocktail recipes. The great thing about throwing a generic Superhero party is that there are lots of\n",
       "elements that are common to all comic book heroes ...\n",
       "\n",
       "Out: None\n",
       "</pre>\n"
      ],
      "text/plain": [
       "\u001b[1mExecution logs:\u001b[0m\n",
       "## Search Results\n",
       "\n",
       "[Superhero Theme Party Ideas for Adults to Create an Unforgettable \n",
       "...](https://partyideaszone.com/superhero-theme-party-ideas-for-adults/)\n",
       "Unleash your inner hero with our ultimate guide to hosting an unforgettable superhero-themed party for adults! \n",
       "Explore creative costume ideas, vibrant decorations, and mouthwatering themed snacks and drinks. Engage your guests\n",
       "with fun activities like trivia, costume contests, and movie screenings. Follow our planning tips to create a \n",
       "cohesive, memorable experience that your friends will rave ...\n",
       "\n",
       "[21 Hilarious Superhero Party Games Kids & Adults Will Both \n",
       "Love](https://www.playpartyplan.com/superhero-minute-to-win-it-games-for-kids/)\n",
       "Entertain your family and friends with these hilarious superhero minute to win it games with items from home! \n",
       "Superhero party games everyone will love no matter their age! Superhero games inspired by The Avengers, Justice \n",
       "League superheroes, and more!\n",
       "\n",
       "[Superhero-Themed Party Ideas & Decorations | \n",
       "CORKCICLE.](https://corkcicle.com/blogs/lifestyle/marvel-themed-party-ideas)\n",
       "Superhero-themed parties have become a beloved trend, offering an exciting way to celebrate special occasions. The \n",
       "thrill of donning capes and masks, the vibrant decorations, and the heroic atmosphere make these parties a hit \n",
       "among kids and adults alike. In this guide, we'll explore Marvel superhero party ideas, ensuring your celebration \n",
       "is as epic as the comics and movies themselves ...\n",
       "\n",
       "[30+ Superhero Party Ideas - Canva](https://www.canva.com/ideas/superhero-party-ideas/)\n",
       "Bright-colored capes, superhero masks for everyone, colorful hero cupcakes - all these ingenious concepts and more \n",
       "are in our special selection of superhero-themed designs and photos. Have a quick browse and find some excellent \n",
       "ideas for your party!\n",
       "\n",
       "[33 Superhero Party Games for Adults - Fun Party Pop](https://funpartypop.com/superhero-party-games-adults/)\n",
       "To my surprise, lots of adults had an equal, if not greater, love for superheroes. This is awesome! Who said kids \n",
       "get all the cool stuff, huh? Because of this, I decided my next birthday would be superhero themed. So today, I \n",
       "have gathered some of the best superhero party games for adults that I could find. Check them out!\n",
       "\n",
       "[24 Superhero Party Ideas that Will Make You Wish You Were a \n",
       "Kid](https://howdoesshe.com/24-incredible-superhero-party-ideas-that-will-make-you-wish-you-were-a-kid-again/)\n",
       "24 incredible superhero party ideas that kids will love and make adults wish they were kids again. From decor \n",
       "ideas, party foods, and costume ideas to superhero-themed activities, we have all of your party needs covered.\n",
       "\n",
       "[The Best Superhero Party Ideas For An Epic Party](https://smartpartyplanning.com/superhero-party-ideas/)\n",
       "Win the status of supermom with these superhero party ideas. Includes ideas for decorations, food and party games \n",
       "that kids will love.\n",
       "\n",
       "[30+ Easy Superhero Party Ideas You Can Perfect on a \n",
       "Budget](https://www.frugalcouponliving.com/superhero-party-ideas/)\n",
       "Host a superhero-themed party that is sure to be a hit without a ton of time, money, or effort. Enjoy the best DIY \n",
       "superhero party ideas, recipes, décor, & games to make party planning easy-peasy.\n",
       "\n",
       "[Superhero Party Ideas | PartyWizz Blog](https://partywizz.com/blog/family/party-ideas/superhero-party-ideas/)\n",
       "Use superhero-themed paper party bags - Amazon have a good selection - or keep costs down with plain paper bags and\n",
       "decorate/personalise them yourself. This is a task you could definitely delegate to your own small superhero!\n",
       "\n",
       "[By a Pro: Superhero Party Ideas by a Professional](https://party-ideas-by-a-pro.com/party-themes/superhero-party/)\n",
       "The Superhero party ideas below were mainly designed with a kid's birthday in mind. However, a lot of the ideas \n",
       "could easily be adapted for an adult costume party so I've also included some tips and supplies specifically for \n",
       "adults—such as cocktail recipes. The great thing about throwing a generic Superhero party is that there are lots of\n",
       "elements that are common to all comic book heroes ...\n",
       "\n",
       "Out: None\n"
      ]
     },
     "metadata": {},
     "output_type": "display_data"
    },
    {
     "data": {
      "text/html": [
       "<pre style=\"white-space:pre;overflow-x:auto;line-height:normal;font-family:Menlo,'DejaVu Sans Mono',consolas,'Courier New',monospace\"><span style=\"color: #7f7f7f; text-decoration-color: #7f7f7f\">[Step 1: Duration 3.42 seconds| Input tokens: 2,005 | Output tokens: 67]</span>\n",
       "</pre>\n"
      ],
      "text/plain": [
       "\u001b[2m[Step 1: Duration 3.42 seconds| Input tokens: 2,005 | Output tokens: 67]\u001b[0m\n"
      ]
     },
     "metadata": {},
     "output_type": "display_data"
    },
    {
     "data": {
      "text/html": [
       "<pre style=\"white-space:pre;overflow-x:auto;line-height:normal;font-family:Menlo,'DejaVu Sans Mono',consolas,'Courier New',monospace\"><span style=\"color: #d4b702; text-decoration-color: #d4b702\">━━━━━━━━━━━━━━━━━━━━━━━━━━━━━━━━━━━━━━━━━━━━━━━━━━━━━ </span><span style=\"font-weight: bold\">Step </span><span style=\"color: #008080; text-decoration-color: #008080; font-weight: bold\">2</span><span style=\"color: #d4b702; text-decoration-color: #d4b702\"> ━━━━━━━━━━━━━━━━━━━━━━━━━━━━━━━━━━━━━━━━━━━━━━━━━━━━━━</span>\n",
       "</pre>\n"
      ],
      "text/plain": [
       "\u001b[38;2;212;183;2m━━━━━━━━━━━━━━━━━━━━━━━━━━━━━━━━━━━━━━━━━━━━━━━━━━━━━ \u001b[0m\u001b[1mStep \u001b[0m\u001b[1;36m2\u001b[0m\u001b[38;2;212;183;2m ━━━━━━━━━━━━━━━━━━━━━━━━━━━━━━━━━━━━━━━━━━━━━━━━━━━━━━\u001b[0m\n"
      ]
     },
     "metadata": {},
     "output_type": "display_data"
    },
    {
     "data": {
      "text/html": [
       "<pre style=\"white-space:pre;overflow-x:auto;line-height:normal;font-family:Menlo,'DejaVu Sans Mono',consolas,'Courier New',monospace\"> ─ <span style=\"font-weight: bold\">Executing parsed code:</span> ──────────────────────────────────────────────────────────────────────────────────────── \n",
       "  <span style=\"color: #f8f8f2; text-decoration-color: #f8f8f2; background-color: #272822\">page_content </span><span style=\"color: #ff4689; text-decoration-color: #ff4689; background-color: #272822\">=</span><span style=\"color: #f8f8f2; text-decoration-color: #f8f8f2; background-color: #272822\"> visit_webpage(</span><span style=\"color: #e6db74; text-decoration-color: #e6db74; background-color: #272822\">\"https://partyideaszone.com/superhero-theme-party-ideas-for-adults/\"</span><span style=\"color: #f8f8f2; text-decoration-color: #f8f8f2; background-color: #272822\">)</span><span style=\"background-color: #272822\">             </span>  \n",
       "  <span style=\"color: #f8f8f2; text-decoration-color: #f8f8f2; background-color: #272822\">print(page_content)</span><span style=\"background-color: #272822\">                                                                                            </span>  \n",
       " ───────────────────────────────────────────────────────────────────────────────────────────────────────────────── \n",
       "</pre>\n"
      ],
      "text/plain": [
       " ─ \u001b[1mExecuting parsed code:\u001b[0m ──────────────────────────────────────────────────────────────────────────────────────── \n",
       "  \u001b[38;2;248;248;242;48;2;39;40;34mpage_content\u001b[0m\u001b[38;2;248;248;242;48;2;39;40;34m \u001b[0m\u001b[38;2;255;70;137;48;2;39;40;34m=\u001b[0m\u001b[38;2;248;248;242;48;2;39;40;34m \u001b[0m\u001b[38;2;248;248;242;48;2;39;40;34mvisit_webpage\u001b[0m\u001b[38;2;248;248;242;48;2;39;40;34m(\u001b[0m\u001b[38;2;230;219;116;48;2;39;40;34m\"\u001b[0m\u001b[38;2;230;219;116;48;2;39;40;34mhttps://partyideaszone.com/superhero-theme-party-ideas-for-adults/\u001b[0m\u001b[38;2;230;219;116;48;2;39;40;34m\"\u001b[0m\u001b[38;2;248;248;242;48;2;39;40;34m)\u001b[0m\u001b[48;2;39;40;34m             \u001b[0m  \n",
       "  \u001b[38;2;248;248;242;48;2;39;40;34mprint\u001b[0m\u001b[38;2;248;248;242;48;2;39;40;34m(\u001b[0m\u001b[38;2;248;248;242;48;2;39;40;34mpage_content\u001b[0m\u001b[38;2;248;248;242;48;2;39;40;34m)\u001b[0m\u001b[48;2;39;40;34m                                                                                            \u001b[0m  \n",
       " ───────────────────────────────────────────────────────────────────────────────────────────────────────────────── \n"
      ]
     },
     "metadata": {},
     "output_type": "display_data"
    },
    {
     "data": {
      "text/html": [
       "<pre style=\"white-space:pre;overflow-x:auto;line-height:normal;font-family:Menlo,'DejaVu Sans Mono',consolas,'Courier New',monospace\"><span style=\"color: #800000; text-decoration-color: #800000; font-weight: bold\">Code execution failed at line </span><span style=\"color: #008000; text-decoration-color: #008000\">'page_content = </span>\n",
       "<span style=\"color: #008000; text-decoration-color: #008000\">visit_webpage(\"https://partyideaszone.com/superhero-theme-party-ideas-for-adults/\")'</span><span style=\"color: #800000; text-decoration-color: #800000; font-weight: bold\"> due to: InterpreterError: </span>\n",
       "<span style=\"color: #800000; text-decoration-color: #800000; font-weight: bold\">Forbidden function evaluation: </span><span style=\"color: #008000; text-decoration-color: #008000\">'visit_webpage'</span><span style=\"color: #800000; text-decoration-color: #800000; font-weight: bold\"> is not among the explicitly allowed tools or defined/imported in the</span>\n",
       "<span style=\"color: #800000; text-decoration-color: #800000; font-weight: bold\">preceding code</span>\n",
       "</pre>\n"
      ],
      "text/plain": [
       "\u001b[1;31mCode execution failed at line \u001b[0m\u001b[32m'page_content = \u001b[0m\n",
       "\u001b[32mvisit_webpage\u001b[0m\u001b[32m(\u001b[0m\u001b[32m\"https://partyideaszone.com/superhero-theme-party-ideas-for-adults/\"\u001b[0m\u001b[32m)\u001b[0m\u001b[32m'\u001b[0m\u001b[1;31m due to: InterpreterError: \u001b[0m\n",
       "\u001b[1;31mForbidden function evaluation: \u001b[0m\u001b[32m'visit_webpage'\u001b[0m\u001b[1;31m is not among the explicitly allowed tools or defined/imported in the\u001b[0m\n",
       "\u001b[1;31mpreceding code\u001b[0m\n"
      ]
     },
     "metadata": {},
     "output_type": "display_data"
    },
    {
     "data": {
      "text/html": [
       "<pre style=\"white-space:pre;overflow-x:auto;line-height:normal;font-family:Menlo,'DejaVu Sans Mono',consolas,'Courier New',monospace\"><span style=\"color: #7f7f7f; text-decoration-color: #7f7f7f\">[Step 2: Duration 1.73 seconds| Input tokens: 5,046 | Output tokens: 174]</span>\n",
       "</pre>\n"
      ],
      "text/plain": [
       "\u001b[2m[Step 2: Duration 1.73 seconds| Input tokens: 5,046 | Output tokens: 174]\u001b[0m\n"
      ]
     },
     "metadata": {},
     "output_type": "display_data"
    },
    {
     "data": {
      "text/html": [
       "<pre style=\"white-space:pre;overflow-x:auto;line-height:normal;font-family:Menlo,'DejaVu Sans Mono',consolas,'Courier New',monospace\"><span style=\"color: #d4b702; text-decoration-color: #d4b702\">━━━━━━━━━━━━━━━━━━━━━━━━━━━━━━━━━━━━━━━━━━━━━━━━━━━━━ </span><span style=\"font-weight: bold\">Step </span><span style=\"color: #008080; text-decoration-color: #008080; font-weight: bold\">3</span><span style=\"color: #d4b702; text-decoration-color: #d4b702\"> ━━━━━━━━━━━━━━━━━━━━━━━━━━━━━━━━━━━━━━━━━━━━━━━━━━━━━━</span>\n",
       "</pre>\n"
      ],
      "text/plain": [
       "\u001b[38;2;212;183;2m━━━━━━━━━━━━━━━━━━━━━━━━━━━━━━━━━━━━━━━━━━━━━━━━━━━━━ \u001b[0m\u001b[1mStep \u001b[0m\u001b[1;36m3\u001b[0m\u001b[38;2;212;183;2m ━━━━━━━━━━━━━━━━━━━━━━━━━━━━━━━━━━━━━━━━━━━━━━━━━━━━━━\u001b[0m\n"
      ]
     },
     "metadata": {},
     "output_type": "display_data"
    },
    {
     "data": {
      "text/html": [
       "<pre style=\"white-space:pre;overflow-x:auto;line-height:normal;font-family:Menlo,'DejaVu Sans Mono',consolas,'Courier New',monospace\"> ─ <span style=\"font-weight: bold\">Executing parsed code:</span> ──────────────────────────────────────────────────────────────────────────────────────── \n",
       "  <span style=\"color: #f8f8f2; text-decoration-color: #f8f8f2; background-color: #272822\">luxury_decorations </span><span style=\"color: #ff4689; text-decoration-color: #ff4689; background-color: #272822\">=</span><span style=\"color: #f8f8f2; text-decoration-color: #f8f8f2; background-color: #272822\"> web_search(query</span><span style=\"color: #ff4689; text-decoration-color: #ff4689; background-color: #272822\">=</span><span style=\"color: #e6db74; text-decoration-color: #e6db74; background-color: #272822\">\"luxury superhero party decorations\"</span><span style=\"color: #f8f8f2; text-decoration-color: #f8f8f2; background-color: #272822\">)</span><span style=\"background-color: #272822\">                                    </span>  \n",
       "  <span style=\"color: #f8f8f2; text-decoration-color: #f8f8f2; background-color: #272822\">luxury_entertainment </span><span style=\"color: #ff4689; text-decoration-color: #ff4689; background-color: #272822\">=</span><span style=\"color: #f8f8f2; text-decoration-color: #f8f8f2; background-color: #272822\"> web_search(query</span><span style=\"color: #ff4689; text-decoration-color: #ff4689; background-color: #272822\">=</span><span style=\"color: #e6db74; text-decoration-color: #e6db74; background-color: #272822\">\"luxury superhero party entertainment\"</span><span style=\"color: #f8f8f2; text-decoration-color: #f8f8f2; background-color: #272822\">)</span><span style=\"background-color: #272822\">                                </span>  \n",
       "  <span style=\"color: #f8f8f2; text-decoration-color: #f8f8f2; background-color: #272822\">luxury_catering </span><span style=\"color: #ff4689; text-decoration-color: #ff4689; background-color: #272822\">=</span><span style=\"color: #f8f8f2; text-decoration-color: #f8f8f2; background-color: #272822\"> web_search(query</span><span style=\"color: #ff4689; text-decoration-color: #ff4689; background-color: #272822\">=</span><span style=\"color: #e6db74; text-decoration-color: #e6db74; background-color: #272822\">\"luxury superhero party catering\"</span><span style=\"color: #f8f8f2; text-decoration-color: #f8f8f2; background-color: #272822\">)</span><span style=\"background-color: #272822\">                                          </span>  \n",
       "  <span style=\"background-color: #272822\">                                                                                                               </span>  \n",
       "  <span style=\"color: #f8f8f2; text-decoration-color: #f8f8f2; background-color: #272822\">print(</span><span style=\"color: #e6db74; text-decoration-color: #e6db74; background-color: #272822\">\"Luxury Decorations:\"</span><span style=\"color: #f8f8f2; text-decoration-color: #f8f8f2; background-color: #272822\">)</span><span style=\"background-color: #272822\">                                                                                   </span>  \n",
       "  <span style=\"color: #f8f8f2; text-decoration-color: #f8f8f2; background-color: #272822\">print(luxury_decorations)</span><span style=\"background-color: #272822\">                                                                                      </span>  \n",
       "  <span style=\"color: #f8f8f2; text-decoration-color: #f8f8f2; background-color: #272822\">print(</span><span style=\"color: #e6db74; text-decoration-color: #e6db74; background-color: #272822\">\"</span><span style=\"color: #ae81ff; text-decoration-color: #ae81ff; background-color: #272822\">\\n</span><span style=\"color: #e6db74; text-decoration-color: #e6db74; background-color: #272822\">Luxury Entertainment:\"</span><span style=\"color: #f8f8f2; text-decoration-color: #f8f8f2; background-color: #272822\">)</span><span style=\"background-color: #272822\">                                                                               </span>  \n",
       "  <span style=\"color: #f8f8f2; text-decoration-color: #f8f8f2; background-color: #272822\">print(luxury_entertainment)</span><span style=\"background-color: #272822\">                                                                                    </span>  \n",
       "  <span style=\"color: #f8f8f2; text-decoration-color: #f8f8f2; background-color: #272822\">print(</span><span style=\"color: #e6db74; text-decoration-color: #e6db74; background-color: #272822\">\"</span><span style=\"color: #ae81ff; text-decoration-color: #ae81ff; background-color: #272822\">\\n</span><span style=\"color: #e6db74; text-decoration-color: #e6db74; background-color: #272822\">Luxury Catering:\"</span><span style=\"color: #f8f8f2; text-decoration-color: #f8f8f2; background-color: #272822\">)</span><span style=\"background-color: #272822\">                                                                                    </span>  \n",
       "  <span style=\"color: #f8f8f2; text-decoration-color: #f8f8f2; background-color: #272822\">print(luxury_catering)</span><span style=\"background-color: #272822\">                                                                                         </span>  \n",
       " ───────────────────────────────────────────────────────────────────────────────────────────────────────────────── \n",
       "</pre>\n"
      ],
      "text/plain": [
       " ─ \u001b[1mExecuting parsed code:\u001b[0m ──────────────────────────────────────────────────────────────────────────────────────── \n",
       "  \u001b[38;2;248;248;242;48;2;39;40;34mluxury_decorations\u001b[0m\u001b[38;2;248;248;242;48;2;39;40;34m \u001b[0m\u001b[38;2;255;70;137;48;2;39;40;34m=\u001b[0m\u001b[38;2;248;248;242;48;2;39;40;34m \u001b[0m\u001b[38;2;248;248;242;48;2;39;40;34mweb_search\u001b[0m\u001b[38;2;248;248;242;48;2;39;40;34m(\u001b[0m\u001b[38;2;248;248;242;48;2;39;40;34mquery\u001b[0m\u001b[38;2;255;70;137;48;2;39;40;34m=\u001b[0m\u001b[38;2;230;219;116;48;2;39;40;34m\"\u001b[0m\u001b[38;2;230;219;116;48;2;39;40;34mluxury superhero party decorations\u001b[0m\u001b[38;2;230;219;116;48;2;39;40;34m\"\u001b[0m\u001b[38;2;248;248;242;48;2;39;40;34m)\u001b[0m\u001b[48;2;39;40;34m                                    \u001b[0m  \n",
       "  \u001b[38;2;248;248;242;48;2;39;40;34mluxury_entertainment\u001b[0m\u001b[38;2;248;248;242;48;2;39;40;34m \u001b[0m\u001b[38;2;255;70;137;48;2;39;40;34m=\u001b[0m\u001b[38;2;248;248;242;48;2;39;40;34m \u001b[0m\u001b[38;2;248;248;242;48;2;39;40;34mweb_search\u001b[0m\u001b[38;2;248;248;242;48;2;39;40;34m(\u001b[0m\u001b[38;2;248;248;242;48;2;39;40;34mquery\u001b[0m\u001b[38;2;255;70;137;48;2;39;40;34m=\u001b[0m\u001b[38;2;230;219;116;48;2;39;40;34m\"\u001b[0m\u001b[38;2;230;219;116;48;2;39;40;34mluxury superhero party entertainment\u001b[0m\u001b[38;2;230;219;116;48;2;39;40;34m\"\u001b[0m\u001b[38;2;248;248;242;48;2;39;40;34m)\u001b[0m\u001b[48;2;39;40;34m                                \u001b[0m  \n",
       "  \u001b[38;2;248;248;242;48;2;39;40;34mluxury_catering\u001b[0m\u001b[38;2;248;248;242;48;2;39;40;34m \u001b[0m\u001b[38;2;255;70;137;48;2;39;40;34m=\u001b[0m\u001b[38;2;248;248;242;48;2;39;40;34m \u001b[0m\u001b[38;2;248;248;242;48;2;39;40;34mweb_search\u001b[0m\u001b[38;2;248;248;242;48;2;39;40;34m(\u001b[0m\u001b[38;2;248;248;242;48;2;39;40;34mquery\u001b[0m\u001b[38;2;255;70;137;48;2;39;40;34m=\u001b[0m\u001b[38;2;230;219;116;48;2;39;40;34m\"\u001b[0m\u001b[38;2;230;219;116;48;2;39;40;34mluxury superhero party catering\u001b[0m\u001b[38;2;230;219;116;48;2;39;40;34m\"\u001b[0m\u001b[38;2;248;248;242;48;2;39;40;34m)\u001b[0m\u001b[48;2;39;40;34m                                          \u001b[0m  \n",
       "  \u001b[48;2;39;40;34m                                                                                                               \u001b[0m  \n",
       "  \u001b[38;2;248;248;242;48;2;39;40;34mprint\u001b[0m\u001b[38;2;248;248;242;48;2;39;40;34m(\u001b[0m\u001b[38;2;230;219;116;48;2;39;40;34m\"\u001b[0m\u001b[38;2;230;219;116;48;2;39;40;34mLuxury Decorations:\u001b[0m\u001b[38;2;230;219;116;48;2;39;40;34m\"\u001b[0m\u001b[38;2;248;248;242;48;2;39;40;34m)\u001b[0m\u001b[48;2;39;40;34m                                                                                   \u001b[0m  \n",
       "  \u001b[38;2;248;248;242;48;2;39;40;34mprint\u001b[0m\u001b[38;2;248;248;242;48;2;39;40;34m(\u001b[0m\u001b[38;2;248;248;242;48;2;39;40;34mluxury_decorations\u001b[0m\u001b[38;2;248;248;242;48;2;39;40;34m)\u001b[0m\u001b[48;2;39;40;34m                                                                                      \u001b[0m  \n",
       "  \u001b[38;2;248;248;242;48;2;39;40;34mprint\u001b[0m\u001b[38;2;248;248;242;48;2;39;40;34m(\u001b[0m\u001b[38;2;230;219;116;48;2;39;40;34m\"\u001b[0m\u001b[38;2;174;129;255;48;2;39;40;34m\\n\u001b[0m\u001b[38;2;230;219;116;48;2;39;40;34mLuxury Entertainment:\u001b[0m\u001b[38;2;230;219;116;48;2;39;40;34m\"\u001b[0m\u001b[38;2;248;248;242;48;2;39;40;34m)\u001b[0m\u001b[48;2;39;40;34m                                                                               \u001b[0m  \n",
       "  \u001b[38;2;248;248;242;48;2;39;40;34mprint\u001b[0m\u001b[38;2;248;248;242;48;2;39;40;34m(\u001b[0m\u001b[38;2;248;248;242;48;2;39;40;34mluxury_entertainment\u001b[0m\u001b[38;2;248;248;242;48;2;39;40;34m)\u001b[0m\u001b[48;2;39;40;34m                                                                                    \u001b[0m  \n",
       "  \u001b[38;2;248;248;242;48;2;39;40;34mprint\u001b[0m\u001b[38;2;248;248;242;48;2;39;40;34m(\u001b[0m\u001b[38;2;230;219;116;48;2;39;40;34m\"\u001b[0m\u001b[38;2;174;129;255;48;2;39;40;34m\\n\u001b[0m\u001b[38;2;230;219;116;48;2;39;40;34mLuxury Catering:\u001b[0m\u001b[38;2;230;219;116;48;2;39;40;34m\"\u001b[0m\u001b[38;2;248;248;242;48;2;39;40;34m)\u001b[0m\u001b[48;2;39;40;34m                                                                                    \u001b[0m  \n",
       "  \u001b[38;2;248;248;242;48;2;39;40;34mprint\u001b[0m\u001b[38;2;248;248;242;48;2;39;40;34m(\u001b[0m\u001b[38;2;248;248;242;48;2;39;40;34mluxury_catering\u001b[0m\u001b[38;2;248;248;242;48;2;39;40;34m)\u001b[0m\u001b[48;2;39;40;34m                                                                                         \u001b[0m  \n",
       " ───────────────────────────────────────────────────────────────────────────────────────────────────────────────── \n"
      ]
     },
     "metadata": {},
     "output_type": "display_data"
    },
    {
     "data": {
      "text/html": [
       "<pre style=\"white-space:pre;overflow-x:auto;line-height:normal;font-family:Menlo,'DejaVu Sans Mono',consolas,'Courier New',monospace\"><span style=\"font-weight: bold\">Execution logs:</span>\n",
       "Luxury Decorations:\n",
       "## Search Results\n",
       "\n",
       "[Amazon.com: Superhero Party \n",
       "Decorations](https://www.amazon.com/superhero-party-decorations/s?k=superhero+party+decorations)\n",
       "Amazon.com: superhero party decorationsShop products from small business brands sold in Amazon's store. Discover \n",
       "more about the small businesses partnering with Amazon and Amazon's commitment to empowering them. Learn more\n",
       "\n",
       "[Superheroes Party Decorations - Etsy](https://www.etsy.com/market/superheroes_party_decorations)\n",
       "Check out our superheroes party decorations selection for the very best in unique or custom, handmade pieces from \n",
       "our party decor shops.\n",
       "\n",
       "[Super Hero Party Supplies: Transform Your Party Space Into a Heroic \n",
       "...](https://www.bulkpartysupplies.com/collections/super-hero-party-theme)\n",
       "Honor your super hero and transform your party space into a heroic wonderland! Our amazing super hero themed \n",
       "decorations and party accessories will help you create an unforgettable event. From masks and capes to banners and \n",
       "tableware, you'll find everything you need to make your special day heroic. Let your guests feel like super heroes \n",
       "as they celebrate the special occasion!\n",
       "\n",
       "[Superhero Birthday Party Decorations | Oriental \n",
       "Trading](https://www.orientaltrading.com/party-supplies/party-decorations/superhero-a1-551267+1897-1.fltr)\n",
       "Create an epic superhero birthday party with our exclusive collection of character-themed decorations. From Marvel \n",
       "party backdrops to DC Comics ceiling hangings, we offer 200+ items including durable latex balloons, life-size \n",
       "cardboard cutouts, and dynamic scene setters.\n",
       "\n",
       "[Superheroes : Birthday Party Supplies &amp; Decorations : \n",
       "Target](https://www.target.com/c/birthday-party-supplies/superheroes/-/N-5xt37Zxt9gs)\n",
       "Shop birthday decorations, balloons, bunting, lights and light signs to suit your theme. They'll create the right \n",
       "atmosphere for your party, whether it's an indoor or an outdoor one. Find the perfect plates, cake toppers, cups \n",
       "and more so you can set a picture-perfect party table that'll make all the food and treats look even better.\n",
       "\n",
       "[Superhero Party Supplies and Decorations - The Party \n",
       "Darling](https://thepartydarling.com/collections/superhero-party-supplies-and-decorations)\n",
       "Throw an action-packed party using our comic book superhero party supplies and decorations. Our superhero birthday \n",
       "decorations and party favors will save the day.\n",
       "\n",
       "[SUPERHEROES PARTY SUPPLIES + BIRTHDAY DECORATIONS - Sprinkle \n",
       "BASH](https://sprinklebash.com/collections/superheroes-party-supplies-decorations)\n",
       "Unleash your inner superhero with our action-packed party supplies and decorations! From colorful cups and plates \n",
       "to heroic napkins, our collection is perfect for birthdays and celebrations. Embrace the superhero spirit and make \n",
       "your party unforgettable with our exciting range of decorations!\n",
       "\n",
       "[Superhero Party Supplies &amp; Decorations | Oriental \n",
       "Trading](https://www.orientaltrading.com/superhero-a1-90000+1897-1.fltr)\n",
       "Create an Epic Superhero Birthday Party Transform any space into a heroic headquarters with our complete selection \n",
       "of superhero party supplies. Discover vibrant decorations featuring popular comic book characters, durable \n",
       "tableware for super-powered snacking, and favor boxes that guests will cherish. Perfect for birthday themes that \n",
       "demand courage and excitement, our collection includes ...\n",
       "\n",
       "[Superhero Party Decorations in Superhero Party \n",
       "Supplies](https://www.walmart.com/browse/party-occasions/superhero-party-decorations/2637_8972913_9268820_3772617_9\n",
       "753516)\n",
       "Shop for Superhero Party Decorations in Superhero Party Supplies. Buy products such as Spidey banner and balloons \n",
       "toppers happy birthday, party decor superhero for kids at Walmart and save.\n",
       "\n",
       "[Amazon.com: Superhero Birthday Party \n",
       "Decorations](https://www.amazon.com/Superhero-Birthday-Party-Decorations/s?k=Superhero+Birthday+Party+Decorations)\n",
       "Avengers Birthday Decoration,Superhero Birthday Party Supplies,marvel birthday Banner,Superhero Balloons,spiderman \n",
       "Toppers Cake Toppers,6 Pcs Avengers Large Foil Balloons for Kid's boy Girls 382 1K+ bought in past month $1699\n",
       "\n",
       "Luxury Entertainment:\n",
       "## Search Results\n",
       "\n",
       "[Superhero Party Packages | The Superhero Company](https://thesuperherocompany.com/superhero-parties/)\n",
       "SUPERHEROES FOR CORPORATE EVENTS Whether you are looking to keep the kids entertained while you manage the main \n",
       "event, or you are looking to provide a unique entertainment experience for guests are your conference/congress or \n",
       "corporate event, this is the perfect Superhero party plan! Our superhero will meet and greet the guests or kids \n",
       "Perform superhero acrobatics, stage a fight scene, or ...\n",
       "\n",
       "[Superhero Packages | Party Rentals | Blue Balloon \n",
       "Parties](https://blueballoonparties.com/packages/superhero-packages/)\n",
       "Our superhero party entertainers specialize in birthdays, communions, corporate &amp; private events, weddings, block \n",
       "parties, school events, and grand openings! Any special event is made better with a superhero to add to the mix.\n",
       "\n",
       "[Rent a Superhero Party Character | Character \n",
       "Rental](https://www.pureimaginationparty.com/superhero-characters-for-parties)\n",
       "Rent a Superhero for birthday party fun! Our superhero characters for parties can do Superhero party games, face \n",
       "painting, balloon twisting &amp; more!\n",
       "\n",
       "[Superhero Theme Party Ideas for Adults to Create an Unforgettable \n",
       "...](https://partyideaszone.com/superhero-theme-party-ideas-for-adults/)\n",
       "Unleash your inner hero with our ultimate guide to hosting an unforgettable superhero-themed party for adults! \n",
       "Explore creative costume ideas, vibrant decorations, and mouthwatering themed snacks and drinks. Engage your guests\n",
       "with fun activities like trivia, costume contests, and movie screenings. Follow our planning tips to create a \n",
       "cohesive, memorable experience that your friends will rave ...\n",
       "\n",
       "[6 Luxury Party Entertainment Ideas That Will Dazzle Your Guests \n",
       "...](https://www.dennissmithentertainment.com/blog-updates/6-luxury-party-entertainment-ideas)\n",
       "Welcome to your ultimate guide on luxury party entertainment ideas. In high-end celebrations, the difference \n",
       "between a good party and an unforgettable one lies in the entertainment.\n",
       "\n",
       "[How to Host a superhero Party? - Captain Fantastic US](https://cfparties.com/blog/how-to-host-superhero-party/)\n",
       "Elevate the superhero party experience with thrilling entertainment and engaging activities that cater to all ages.\n",
       "Plan a variety of superhero-themed games and challenges that test guests' abilities and teamwork.\n",
       "\n",
       "[Superhero Party Packages/Batman,Spiderman/Star Brite \n",
       "Entertainment](https://www.starbriteparty.com/superhero-party-package-pricing)\n",
       "We offer several superhero party characters &amp; affordable party packages.Black Panther,Superman,Wonder Woman,Iron \n",
       "Man party\n",
       "\n",
       "[Hire Unique Entertainment for Special Events | Extraordinary Arts](https://extraordinaryartsllc.com/)\n",
       "Experience world-class entertainment with the industry's most sought-after performers, trusted by leading global \n",
       "brands. With over a decade of expertise, Extraordinary Arts sets the standard for high-end corporate events and \n",
       "luxury celebrations.\n",
       "\n",
       "[Superhero Birthday Party Packages: The Superhero Experience](https://www.superheroparties.com/packages/)\n",
       "Choose a superhero birthday party package that best fits your event. Packages start from $125 and feature a wide \n",
       "variety of superheroes to invite to your party.\n",
       "\n",
       "[7 Unique Luxury Party Entertainment Ideas • Magician David \n",
       "Ranalli](https://davidranalli.com/7-unique-luxury-party-entertainment-ideas/)\n",
       "After years of performing at luxury events, Magician David Ranalli is sharing ideas that will make your party \n",
       "absolutely unforgettable.\n",
       "\n",
       "Luxury Catering:\n",
       "## Search Results\n",
       "\n",
       "[Superhero Party Packages | The Superhero Company](https://thesuperherocompany.com/superhero-parties/)\n",
       "Our superhero will meet and greet the guests or kids Perform superhero acrobatics, stage a fight scene, or train on\n",
       "signature character moves Interactive storytelling, superhero games Photo opportunity with the superhero Pricing \n",
       "for GTA: Please contact our event planner for pricing information and how to customize your event. Book Superhero \n",
       "...\n",
       "\n",
       "[How to Host a superhero Party? - Captain Fantastic US](https://cfparties.com/blog/how-to-host-superhero-party/)\n",
       "Learn to host a superhero party with themed decorations, costumes, and activities. How to Host a Superhero Party? \n",
       "Discover now!\n",
       "\n",
       "[56 Superhero party catering ideas - \n",
       "Pinterest](https://www.pinterest.com/alexmlopez/superhero-party-catering-ideas/)\n",
       "Nov 21, 2018 - Explore Alex Lopez Arguelles's board \"Superhero party catering ideas\" on Pinterest. See more ideas \n",
       "about superhero party, party, superhero birthday party.\n",
       "\n",
       "[The Best Superhero Party Ideas For An Epic Party](https://smartpartyplanning.com/superhero-party-ideas/)\n",
       "Win the status of supermom with these superhero party ideas. Includes ideas for decorations, food and party games \n",
       "that kids will love.\n",
       "\n",
       "[Superhero Packages | Party Rentals | Blue Balloon \n",
       "Parties](https://blueballoonparties.com/packages/superhero-packages/)\n",
       "Give your party a kick and add one of your son or daughter's favorite superhero to the list of attendees. You won't\n",
       "believe the joy and fun our costumed superheroes inspire. Our superhero party entertainers specialize in birthdays,\n",
       "communions, corporate &amp; private events, weddings, block parties, school events, and grand openings!\n",
       "\n",
       "[Superhero Party Packages/Batman,Spiderman/Star Brite \n",
       "Entertainment](https://www.starbriteparty.com/superhero-party-package-pricing)\n",
       "We offer several superhero party characters &amp; affordable party packages.Black Panther,Superman,Wonder Woman,Iron \n",
       "Man party\n",
       "\n",
       "[Superhero Party Food Ideas for Adults That Will Impress Your \n",
       "Guests](https://partyideaszone.com/superhero-party-food-ideas-for-adults/)\n",
       "Get ready to take your superhero-themed party to the next level with our exciting adult-friendly food ideas! This \n",
       "article features creative snack options like Heroic Hummus Platter and Avenger Spring Rolls, alongside hearty main \n",
       "dishes like Power-Packed Sliders and Mighty Pizza. Don't miss out on our delicious sweet treats and themed \n",
       "beverages that will thrill your guests. Elevate your ...\n",
       "\n",
       "[37 Marvel Food And Drink Ideas For Your Next Superhero \n",
       "Party](https://noguiltlife.com/marvel-food-and-drink-ideas-superhero-party/)\n",
       "Marvel Drink Ideas For Your Next Superhero Party Every party needs a superhero and these Marvel drink ideas might \n",
       "just be the one you're looking for! Alcoholic and non-alcoholic options are on this list of Marvel inspired \n",
       "cocktails.\n",
       "\n",
       "[Superhero Birthday Party Packages: The Superhero Experience](https://www.superheroparties.com/packages/)\n",
       "Choose a superhero birthday party package that best fits your event. Packages start from $125 and feature a wide \n",
       "variety of superheroes to invite to your party.\n",
       "\n",
       "[Superhero Parties for 3-7 Years | Captain Fantastic](https://captain-fantastic.co.uk/parties/superhero-parties-3/)\n",
       "Ultimate Superhero Party packages* We offer a variety of fantastic options to fit your every need. From face \n",
       "painters, decorations, catering, bespoke cakes and so much more, we have a team of event managers and assistants at\n",
       "hand to help create the most memorable party for you and your little party animals!\n",
       "\n",
       "Out: None\n",
       "</pre>\n"
      ],
      "text/plain": [
       "\u001b[1mExecution logs:\u001b[0m\n",
       "Luxury Decorations:\n",
       "## Search Results\n",
       "\n",
       "[Amazon.com: Superhero Party \n",
       "Decorations](https://www.amazon.com/superhero-party-decorations/s?k=superhero+party+decorations)\n",
       "Amazon.com: superhero party decorationsShop products from small business brands sold in Amazon's store. Discover \n",
       "more about the small businesses partnering with Amazon and Amazon's commitment to empowering them. Learn more\n",
       "\n",
       "[Superheroes Party Decorations - Etsy](https://www.etsy.com/market/superheroes_party_decorations)\n",
       "Check out our superheroes party decorations selection for the very best in unique or custom, handmade pieces from \n",
       "our party decor shops.\n",
       "\n",
       "[Super Hero Party Supplies: Transform Your Party Space Into a Heroic \n",
       "...](https://www.bulkpartysupplies.com/collections/super-hero-party-theme)\n",
       "Honor your super hero and transform your party space into a heroic wonderland! Our amazing super hero themed \n",
       "decorations and party accessories will help you create an unforgettable event. From masks and capes to banners and \n",
       "tableware, you'll find everything you need to make your special day heroic. Let your guests feel like super heroes \n",
       "as they celebrate the special occasion!\n",
       "\n",
       "[Superhero Birthday Party Decorations | Oriental \n",
       "Trading](https://www.orientaltrading.com/party-supplies/party-decorations/superhero-a1-551267+1897-1.fltr)\n",
       "Create an epic superhero birthday party with our exclusive collection of character-themed decorations. From Marvel \n",
       "party backdrops to DC Comics ceiling hangings, we offer 200+ items including durable latex balloons, life-size \n",
       "cardboard cutouts, and dynamic scene setters.\n",
       "\n",
       "[Superheroes : Birthday Party Supplies & Decorations : \n",
       "Target](https://www.target.com/c/birthday-party-supplies/superheroes/-/N-5xt37Zxt9gs)\n",
       "Shop birthday decorations, balloons, bunting, lights and light signs to suit your theme. They'll create the right \n",
       "atmosphere for your party, whether it's an indoor or an outdoor one. Find the perfect plates, cake toppers, cups \n",
       "and more so you can set a picture-perfect party table that'll make all the food and treats look even better.\n",
       "\n",
       "[Superhero Party Supplies and Decorations - The Party \n",
       "Darling](https://thepartydarling.com/collections/superhero-party-supplies-and-decorations)\n",
       "Throw an action-packed party using our comic book superhero party supplies and decorations. Our superhero birthday \n",
       "decorations and party favors will save the day.\n",
       "\n",
       "[SUPERHEROES PARTY SUPPLIES + BIRTHDAY DECORATIONS - Sprinkle \n",
       "BASH](https://sprinklebash.com/collections/superheroes-party-supplies-decorations)\n",
       "Unleash your inner superhero with our action-packed party supplies and decorations! From colorful cups and plates \n",
       "to heroic napkins, our collection is perfect for birthdays and celebrations. Embrace the superhero spirit and make \n",
       "your party unforgettable with our exciting range of decorations!\n",
       "\n",
       "[Superhero Party Supplies & Decorations | Oriental \n",
       "Trading](https://www.orientaltrading.com/superhero-a1-90000+1897-1.fltr)\n",
       "Create an Epic Superhero Birthday Party Transform any space into a heroic headquarters with our complete selection \n",
       "of superhero party supplies. Discover vibrant decorations featuring popular comic book characters, durable \n",
       "tableware for super-powered snacking, and favor boxes that guests will cherish. Perfect for birthday themes that \n",
       "demand courage and excitement, our collection includes ...\n",
       "\n",
       "[Superhero Party Decorations in Superhero Party \n",
       "Supplies](https://www.walmart.com/browse/party-occasions/superhero-party-decorations/2637_8972913_9268820_3772617_9\n",
       "753516)\n",
       "Shop for Superhero Party Decorations in Superhero Party Supplies. Buy products such as Spidey banner and balloons \n",
       "toppers happy birthday, party decor superhero for kids at Walmart and save.\n",
       "\n",
       "[Amazon.com: Superhero Birthday Party \n",
       "Decorations](https://www.amazon.com/Superhero-Birthday-Party-Decorations/s?k=Superhero+Birthday+Party+Decorations)\n",
       "Avengers Birthday Decoration,Superhero Birthday Party Supplies,marvel birthday Banner,Superhero Balloons,spiderman \n",
       "Toppers Cake Toppers,6 Pcs Avengers Large Foil Balloons for Kid's boy Girls 382 1K+ bought in past month $1699\n",
       "\n",
       "Luxury Entertainment:\n",
       "## Search Results\n",
       "\n",
       "[Superhero Party Packages | The Superhero Company](https://thesuperherocompany.com/superhero-parties/)\n",
       "SUPERHEROES FOR CORPORATE EVENTS Whether you are looking to keep the kids entertained while you manage the main \n",
       "event, or you are looking to provide a unique entertainment experience for guests are your conference/congress or \n",
       "corporate event, this is the perfect Superhero party plan! Our superhero will meet and greet the guests or kids \n",
       "Perform superhero acrobatics, stage a fight scene, or ...\n",
       "\n",
       "[Superhero Packages | Party Rentals | Blue Balloon \n",
       "Parties](https://blueballoonparties.com/packages/superhero-packages/)\n",
       "Our superhero party entertainers specialize in birthdays, communions, corporate & private events, weddings, block \n",
       "parties, school events, and grand openings! Any special event is made better with a superhero to add to the mix.\n",
       "\n",
       "[Rent a Superhero Party Character | Character \n",
       "Rental](https://www.pureimaginationparty.com/superhero-characters-for-parties)\n",
       "Rent a Superhero for birthday party fun! Our superhero characters for parties can do Superhero party games, face \n",
       "painting, balloon twisting & more!\n",
       "\n",
       "[Superhero Theme Party Ideas for Adults to Create an Unforgettable \n",
       "...](https://partyideaszone.com/superhero-theme-party-ideas-for-adults/)\n",
       "Unleash your inner hero with our ultimate guide to hosting an unforgettable superhero-themed party for adults! \n",
       "Explore creative costume ideas, vibrant decorations, and mouthwatering themed snacks and drinks. Engage your guests\n",
       "with fun activities like trivia, costume contests, and movie screenings. Follow our planning tips to create a \n",
       "cohesive, memorable experience that your friends will rave ...\n",
       "\n",
       "[6 Luxury Party Entertainment Ideas That Will Dazzle Your Guests \n",
       "...](https://www.dennissmithentertainment.com/blog-updates/6-luxury-party-entertainment-ideas)\n",
       "Welcome to your ultimate guide on luxury party entertainment ideas. In high-end celebrations, the difference \n",
       "between a good party and an unforgettable one lies in the entertainment.\n",
       "\n",
       "[How to Host a superhero Party? - Captain Fantastic US](https://cfparties.com/blog/how-to-host-superhero-party/)\n",
       "Elevate the superhero party experience with thrilling entertainment and engaging activities that cater to all ages.\n",
       "Plan a variety of superhero-themed games and challenges that test guests' abilities and teamwork.\n",
       "\n",
       "[Superhero Party Packages/Batman,Spiderman/Star Brite \n",
       "Entertainment](https://www.starbriteparty.com/superhero-party-package-pricing)\n",
       "We offer several superhero party characters & affordable party packages.Black Panther,Superman,Wonder Woman,Iron \n",
       "Man party\n",
       "\n",
       "[Hire Unique Entertainment for Special Events | Extraordinary Arts](https://extraordinaryartsllc.com/)\n",
       "Experience world-class entertainment with the industry's most sought-after performers, trusted by leading global \n",
       "brands. With over a decade of expertise, Extraordinary Arts sets the standard for high-end corporate events and \n",
       "luxury celebrations.\n",
       "\n",
       "[Superhero Birthday Party Packages: The Superhero Experience](https://www.superheroparties.com/packages/)\n",
       "Choose a superhero birthday party package that best fits your event. Packages start from $125 and feature a wide \n",
       "variety of superheroes to invite to your party.\n",
       "\n",
       "[7 Unique Luxury Party Entertainment Ideas • Magician David \n",
       "Ranalli](https://davidranalli.com/7-unique-luxury-party-entertainment-ideas/)\n",
       "After years of performing at luxury events, Magician David Ranalli is sharing ideas that will make your party \n",
       "absolutely unforgettable.\n",
       "\n",
       "Luxury Catering:\n",
       "## Search Results\n",
       "\n",
       "[Superhero Party Packages | The Superhero Company](https://thesuperherocompany.com/superhero-parties/)\n",
       "Our superhero will meet and greet the guests or kids Perform superhero acrobatics, stage a fight scene, or train on\n",
       "signature character moves Interactive storytelling, superhero games Photo opportunity with the superhero Pricing \n",
       "for GTA: Please contact our event planner for pricing information and how to customize your event. Book Superhero \n",
       "...\n",
       "\n",
       "[How to Host a superhero Party? - Captain Fantastic US](https://cfparties.com/blog/how-to-host-superhero-party/)\n",
       "Learn to host a superhero party with themed decorations, costumes, and activities. How to Host a Superhero Party? \n",
       "Discover now!\n",
       "\n",
       "[56 Superhero party catering ideas - \n",
       "Pinterest](https://www.pinterest.com/alexmlopez/superhero-party-catering-ideas/)\n",
       "Nov 21, 2018 - Explore Alex Lopez Arguelles's board \"Superhero party catering ideas\" on Pinterest. See more ideas \n",
       "about superhero party, party, superhero birthday party.\n",
       "\n",
       "[The Best Superhero Party Ideas For An Epic Party](https://smartpartyplanning.com/superhero-party-ideas/)\n",
       "Win the status of supermom with these superhero party ideas. Includes ideas for decorations, food and party games \n",
       "that kids will love.\n",
       "\n",
       "[Superhero Packages | Party Rentals | Blue Balloon \n",
       "Parties](https://blueballoonparties.com/packages/superhero-packages/)\n",
       "Give your party a kick and add one of your son or daughter's favorite superhero to the list of attendees. You won't\n",
       "believe the joy and fun our costumed superheroes inspire. Our superhero party entertainers specialize in birthdays,\n",
       "communions, corporate & private events, weddings, block parties, school events, and grand openings!\n",
       "\n",
       "[Superhero Party Packages/Batman,Spiderman/Star Brite \n",
       "Entertainment](https://www.starbriteparty.com/superhero-party-package-pricing)\n",
       "We offer several superhero party characters & affordable party packages.Black Panther,Superman,Wonder Woman,Iron \n",
       "Man party\n",
       "\n",
       "[Superhero Party Food Ideas for Adults That Will Impress Your \n",
       "Guests](https://partyideaszone.com/superhero-party-food-ideas-for-adults/)\n",
       "Get ready to take your superhero-themed party to the next level with our exciting adult-friendly food ideas! This \n",
       "article features creative snack options like Heroic Hummus Platter and Avenger Spring Rolls, alongside hearty main \n",
       "dishes like Power-Packed Sliders and Mighty Pizza. Don't miss out on our delicious sweet treats and themed \n",
       "beverages that will thrill your guests. Elevate your ...\n",
       "\n",
       "[37 Marvel Food And Drink Ideas For Your Next Superhero \n",
       "Party](https://noguiltlife.com/marvel-food-and-drink-ideas-superhero-party/)\n",
       "Marvel Drink Ideas For Your Next Superhero Party Every party needs a superhero and these Marvel drink ideas might \n",
       "just be the one you're looking for! Alcoholic and non-alcoholic options are on this list of Marvel inspired \n",
       "cocktails.\n",
       "\n",
       "[Superhero Birthday Party Packages: The Superhero Experience](https://www.superheroparties.com/packages/)\n",
       "Choose a superhero birthday party package that best fits your event. Packages start from $125 and feature a wide \n",
       "variety of superheroes to invite to your party.\n",
       "\n",
       "[Superhero Parties for 3-7 Years | Captain Fantastic](https://captain-fantastic.co.uk/parties/superhero-parties-3/)\n",
       "Ultimate Superhero Party packages* We offer a variety of fantastic options to fit your every need. From face \n",
       "painters, decorations, catering, bespoke cakes and so much more, we have a team of event managers and assistants at\n",
       "hand to help create the most memorable party for you and your little party animals!\n",
       "\n",
       "Out: None\n"
      ]
     },
     "metadata": {},
     "output_type": "display_data"
    },
    {
     "data": {
      "text/html": [
       "<pre style=\"white-space:pre;overflow-x:auto;line-height:normal;font-family:Menlo,'DejaVu Sans Mono',consolas,'Courier New',monospace\"><span style=\"color: #7f7f7f; text-decoration-color: #7f7f7f\">[Step 3: Duration 9.00 seconds| Input tokens: 8,368 | Output tokens: 332]</span>\n",
       "</pre>\n"
      ],
      "text/plain": [
       "\u001b[2m[Step 3: Duration 9.00 seconds| Input tokens: 8,368 | Output tokens: 332]\u001b[0m\n"
      ]
     },
     "metadata": {},
     "output_type": "display_data"
    },
    {
     "data": {
      "text/html": [
       "<pre style=\"white-space:pre;overflow-x:auto;line-height:normal;font-family:Menlo,'DejaVu Sans Mono',consolas,'Courier New',monospace\"><span style=\"color: #d4b702; text-decoration-color: #d4b702\">━━━━━━━━━━━━━━━━━━━━━━━━━━━━━━━━━━━━━━━━━━━━━━━━━━━━━ </span><span style=\"font-weight: bold\">Step </span><span style=\"color: #008080; text-decoration-color: #008080; font-weight: bold\">4</span><span style=\"color: #d4b702; text-decoration-color: #d4b702\"> ━━━━━━━━━━━━━━━━━━━━━━━━━━━━━━━━━━━━━━━━━━━━━━━━━━━━━━</span>\n",
       "</pre>\n"
      ],
      "text/plain": [
       "\u001b[38;2;212;183;2m━━━━━━━━━━━━━━━━━━━━━━━━━━━━━━━━━━━━━━━━━━━━━━━━━━━━━ \u001b[0m\u001b[1mStep \u001b[0m\u001b[1;36m4\u001b[0m\u001b[38;2;212;183;2m ━━━━━━━━━━━━━━━━━━━━━━━━━━━━━━━━━━━━━━━━━━━━━━━━━━━━━━\u001b[0m\n"
      ]
     },
     "metadata": {},
     "output_type": "display_data"
    },
    {
     "data": {
      "text/html": [
       "<pre style=\"white-space:pre;overflow-x:auto;line-height:normal;font-family:Menlo,'DejaVu Sans Mono',consolas,'Courier New',monospace\"> ─ <span style=\"font-weight: bold\">Executing parsed code:</span> ──────────────────────────────────────────────────────────────────────────────────────── \n",
       "  <span style=\"color: #959077; text-decoration-color: #959077; background-color: #272822\"># Extracting relevant information from the observation</span><span style=\"background-color: #272822\">                                                         </span>  \n",
       "  <span style=\"color: #f8f8f2; text-decoration-color: #f8f8f2; background-color: #272822\">decorations_keywords </span><span style=\"color: #ff4689; text-decoration-color: #ff4689; background-color: #272822\">=</span><span style=\"color: #f8f8f2; text-decoration-color: #f8f8f2; background-color: #272822\"> [</span><span style=\"color: #e6db74; text-decoration-color: #e6db74; background-color: #272822\">\"vibrant decorations\"</span><span style=\"color: #f8f8f2; text-decoration-color: #f8f8f2; background-color: #272822\">, </span><span style=\"color: #e6db74; text-decoration-color: #e6db74; background-color: #272822\">\"heroic wonderland\"</span><span style=\"color: #f8f8f2; text-decoration-color: #f8f8f2; background-color: #272822\">, </span><span style=\"color: #e6db74; text-decoration-color: #e6db74; background-color: #272822\">\"exclusive collection\"</span><span style=\"color: #f8f8f2; text-decoration-color: #f8f8f2; background-color: #272822\">, </span><span style=\"color: #e6db74; text-decoration-color: #e6db74; background-color: #272822\">\"comic book </span><span style=\"background-color: #272822\">       </span>  \n",
       "  <span style=\"color: #e6db74; text-decoration-color: #e6db74; background-color: #272822\">characters\"</span><span style=\"color: #f8f8f2; text-decoration-color: #f8f8f2; background-color: #272822\">, </span><span style=\"color: #e6db74; text-decoration-color: #e6db74; background-color: #272822\">\"dynamic scene setters\"</span><span style=\"color: #f8f8f2; text-decoration-color: #f8f8f2; background-color: #272822\">]</span><span style=\"background-color: #272822\">                                                                          </span>  \n",
       "  <span style=\"color: #f8f8f2; text-decoration-color: #f8f8f2; background-color: #272822\">entertainment_keywords </span><span style=\"color: #ff4689; text-decoration-color: #ff4689; background-color: #272822\">=</span><span style=\"color: #f8f8f2; text-decoration-color: #f8f8f2; background-color: #272822\"> [</span><span style=\"color: #e6db74; text-decoration-color: #e6db74; background-color: #272822\">\"thrilling entertainment\"</span><span style=\"color: #f8f8f2; text-decoration-color: #f8f8f2; background-color: #272822\">, </span><span style=\"color: #e6db74; text-decoration-color: #e6db74; background-color: #272822\">\"engaging activities\"</span><span style=\"color: #f8f8f2; text-decoration-color: #f8f8f2; background-color: #272822\">, </span><span style=\"color: #e6db74; text-decoration-color: #e6db74; background-color: #272822\">\"superhero birthday party </span><span style=\"background-color: #272822\">         </span>  \n",
       "  <span style=\"color: #e6db74; text-decoration-color: #e6db74; background-color: #272822\">packages\"</span><span style=\"color: #f8f8f2; text-decoration-color: #f8f8f2; background-color: #272822\">, </span><span style=\"color: #e6db74; text-decoration-color: #e6db74; background-color: #272822\">\"heroic acrobatics\"</span><span style=\"color: #f8f8f2; text-decoration-color: #f8f8f2; background-color: #272822\">, </span><span style=\"color: #e6db74; text-decoration-color: #e6db74; background-color: #272822\">\"signature character moves\"</span><span style=\"color: #f8f8f2; text-decoration-color: #f8f8f2; background-color: #272822\">, </span><span style=\"color: #e6db74; text-decoration-color: #e6db74; background-color: #272822\">\"interactive storytelling\"</span><span style=\"color: #f8f8f2; text-decoration-color: #f8f8f2; background-color: #272822\">]</span><span style=\"background-color: #272822\">                       </span>  \n",
       "  <span style=\"color: #f8f8f2; text-decoration-color: #f8f8f2; background-color: #272822\">catering_keywords </span><span style=\"color: #ff4689; text-decoration-color: #ff4689; background-color: #272822\">=</span><span style=\"color: #f8f8f2; text-decoration-color: #f8f8f2; background-color: #272822\"> [</span><span style=\"color: #e6db74; text-decoration-color: #e6db74; background-color: #272822\">\"Heroic Hummus Platter\"</span><span style=\"color: #f8f8f2; text-decoration-color: #f8f8f2; background-color: #272822\">, </span><span style=\"color: #e6db74; text-decoration-color: #e6db74; background-color: #272822\">\"Avenger Spring Rolls\"</span><span style=\"color: #f8f8f2; text-decoration-color: #f8f8f2; background-color: #272822\">, </span><span style=\"color: #e6db74; text-decoration-color: #e6db74; background-color: #272822\">\"Power-Packed Sliders\"</span><span style=\"color: #f8f8f2; text-decoration-color: #f8f8f2; background-color: #272822\">, </span><span style=\"color: #e6db74; text-decoration-color: #e6db74; background-color: #272822\">\"Mighty Pizza\"</span><span style=\"color: #f8f8f2; text-decoration-color: #f8f8f2; background-color: #272822\">, </span><span style=\"background-color: #272822\"> </span>  \n",
       "  <span style=\"color: #e6db74; text-decoration-color: #e6db74; background-color: #272822\">\"Marvel drink ideas\"</span><span style=\"color: #f8f8f2; text-decoration-color: #f8f8f2; background-color: #272822\">, </span><span style=\"color: #e6db74; text-decoration-color: #e6db74; background-color: #272822\">\"bespoke cakes\"</span><span style=\"color: #f8f8f2; text-decoration-color: #f8f8f2; background-color: #272822\">]</span><span style=\"background-color: #272822\">                                                                         </span>  \n",
       "  <span style=\"background-color: #272822\">                                                                                                               </span>  \n",
       "  <span style=\"color: #959077; text-decoration-color: #959077; background-color: #272822\"># Creating a summary of luxury superhero-themed party ideas</span><span style=\"background-color: #272822\">                                                    </span>  \n",
       "  <span style=\"color: #f8f8f2; text-decoration-color: #f8f8f2; background-color: #272822\">summary </span><span style=\"color: #ff4689; text-decoration-color: #ff4689; background-color: #272822\">=</span><span style=\"color: #f8f8f2; text-decoration-color: #f8f8f2; background-color: #272822\"> </span><span style=\"color: #e6db74; text-decoration-color: #e6db74; background-color: #272822\">\"Luxury Superhero-Themed Party Ideas:</span><span style=\"color: #ae81ff; text-decoration-color: #ae81ff; background-color: #272822\">\\n\\n</span><span style=\"color: #e6db74; text-decoration-color: #e6db74; background-color: #272822\">Decorations:</span><span style=\"color: #ae81ff; text-decoration-color: #ae81ff; background-color: #272822\">\\n</span><span style=\"color: #e6db74; text-decoration-color: #e6db74; background-color: #272822\">\"</span><span style=\"background-color: #272822\">                                             </span>  \n",
       "  <span style=\"color: #f8f8f2; text-decoration-color: #f8f8f2; background-color: #272822\">summary </span><span style=\"color: #ff4689; text-decoration-color: #ff4689; background-color: #272822\">+=</span><span style=\"color: #f8f8f2; text-decoration-color: #f8f8f2; background-color: #272822\"> </span><span style=\"color: #e6db74; text-decoration-color: #e6db74; background-color: #272822\">\"- \"</span><span style=\"color: #f8f8f2; text-decoration-color: #f8f8f2; background-color: #272822\"> </span><span style=\"color: #ff4689; text-decoration-color: #ff4689; background-color: #272822\">+</span><span style=\"color: #f8f8f2; text-decoration-color: #f8f8f2; background-color: #272822\"> </span><span style=\"color: #e6db74; text-decoration-color: #e6db74; background-color: #272822\">\"</span><span style=\"color: #ae81ff; text-decoration-color: #ae81ff; background-color: #272822\">\\n</span><span style=\"color: #e6db74; text-decoration-color: #e6db74; background-color: #272822\">- \"</span><span style=\"color: #ff4689; text-decoration-color: #ff4689; background-color: #272822\">.</span><span style=\"color: #f8f8f2; text-decoration-color: #f8f8f2; background-color: #272822\">join(decorations_keywords) </span><span style=\"color: #ff4689; text-decoration-color: #ff4689; background-color: #272822\">+</span><span style=\"color: #f8f8f2; text-decoration-color: #f8f8f2; background-color: #272822\"> </span><span style=\"color: #e6db74; text-decoration-color: #e6db74; background-color: #272822\">\"</span><span style=\"color: #ae81ff; text-decoration-color: #ae81ff; background-color: #272822\">\\n\\n</span><span style=\"color: #e6db74; text-decoration-color: #e6db74; background-color: #272822\">\"</span><span style=\"background-color: #272822\">                                                   </span>  \n",
       "  <span style=\"color: #f8f8f2; text-decoration-color: #f8f8f2; background-color: #272822\">summary </span><span style=\"color: #ff4689; text-decoration-color: #ff4689; background-color: #272822\">+=</span><span style=\"color: #f8f8f2; text-decoration-color: #f8f8f2; background-color: #272822\"> </span><span style=\"color: #e6db74; text-decoration-color: #e6db74; background-color: #272822\">\"Entertainment:</span><span style=\"color: #ae81ff; text-decoration-color: #ae81ff; background-color: #272822\">\\n</span><span style=\"color: #e6db74; text-decoration-color: #e6db74; background-color: #272822\">\"</span><span style=\"background-color: #272822\">                                                                                  </span>  \n",
       "  <span style=\"color: #f8f8f2; text-decoration-color: #f8f8f2; background-color: #272822\">summary </span><span style=\"color: #ff4689; text-decoration-color: #ff4689; background-color: #272822\">+=</span><span style=\"color: #f8f8f2; text-decoration-color: #f8f8f2; background-color: #272822\"> </span><span style=\"color: #e6db74; text-decoration-color: #e6db74; background-color: #272822\">\"- \"</span><span style=\"color: #f8f8f2; text-decoration-color: #f8f8f2; background-color: #272822\"> </span><span style=\"color: #ff4689; text-decoration-color: #ff4689; background-color: #272822\">+</span><span style=\"color: #f8f8f2; text-decoration-color: #f8f8f2; background-color: #272822\"> </span><span style=\"color: #e6db74; text-decoration-color: #e6db74; background-color: #272822\">\"</span><span style=\"color: #ae81ff; text-decoration-color: #ae81ff; background-color: #272822\">\\n</span><span style=\"color: #e6db74; text-decoration-color: #e6db74; background-color: #272822\">- \"</span><span style=\"color: #ff4689; text-decoration-color: #ff4689; background-color: #272822\">.</span><span style=\"color: #f8f8f2; text-decoration-color: #f8f8f2; background-color: #272822\">join(entertainment_keywords) </span><span style=\"color: #ff4689; text-decoration-color: #ff4689; background-color: #272822\">+</span><span style=\"color: #f8f8f2; text-decoration-color: #f8f8f2; background-color: #272822\"> </span><span style=\"color: #e6db74; text-decoration-color: #e6db74; background-color: #272822\">\"</span><span style=\"color: #ae81ff; text-decoration-color: #ae81ff; background-color: #272822\">\\n\\n</span><span style=\"color: #e6db74; text-decoration-color: #e6db74; background-color: #272822\">\"</span><span style=\"background-color: #272822\">                                                 </span>  \n",
       "  <span style=\"color: #f8f8f2; text-decoration-color: #f8f8f2; background-color: #272822\">summary </span><span style=\"color: #ff4689; text-decoration-color: #ff4689; background-color: #272822\">+=</span><span style=\"color: #f8f8f2; text-decoration-color: #f8f8f2; background-color: #272822\"> </span><span style=\"color: #e6db74; text-decoration-color: #e6db74; background-color: #272822\">\"Catering:</span><span style=\"color: #ae81ff; text-decoration-color: #ae81ff; background-color: #272822\">\\n</span><span style=\"color: #e6db74; text-decoration-color: #e6db74; background-color: #272822\">\"</span><span style=\"background-color: #272822\">                                                                                       </span>  \n",
       "  <span style=\"color: #f8f8f2; text-decoration-color: #f8f8f2; background-color: #272822\">summary </span><span style=\"color: #ff4689; text-decoration-color: #ff4689; background-color: #272822\">+=</span><span style=\"color: #f8f8f2; text-decoration-color: #f8f8f2; background-color: #272822\"> </span><span style=\"color: #e6db74; text-decoration-color: #e6db74; background-color: #272822\">\"- \"</span><span style=\"color: #f8f8f2; text-decoration-color: #f8f8f2; background-color: #272822\"> </span><span style=\"color: #ff4689; text-decoration-color: #ff4689; background-color: #272822\">+</span><span style=\"color: #f8f8f2; text-decoration-color: #f8f8f2; background-color: #272822\"> </span><span style=\"color: #e6db74; text-decoration-color: #e6db74; background-color: #272822\">\"</span><span style=\"color: #ae81ff; text-decoration-color: #ae81ff; background-color: #272822\">\\n</span><span style=\"color: #e6db74; text-decoration-color: #e6db74; background-color: #272822\">- \"</span><span style=\"color: #ff4689; text-decoration-color: #ff4689; background-color: #272822\">.</span><span style=\"color: #f8f8f2; text-decoration-color: #f8f8f2; background-color: #272822\">join(catering_keywords) </span><span style=\"color: #ff4689; text-decoration-color: #ff4689; background-color: #272822\">+</span><span style=\"color: #f8f8f2; text-decoration-color: #f8f8f2; background-color: #272822\"> </span><span style=\"color: #e6db74; text-decoration-color: #e6db74; background-color: #272822\">\"</span><span style=\"color: #ae81ff; text-decoration-color: #ae81ff; background-color: #272822\">\\n</span><span style=\"color: #e6db74; text-decoration-color: #e6db74; background-color: #272822\">\"</span><span style=\"background-color: #272822\">                                                        </span>  \n",
       "  <span style=\"background-color: #272822\">                                                                                                               </span>  \n",
       "  <span style=\"color: #f8f8f2; text-decoration-color: #f8f8f2; background-color: #272822\">final_answer(summary)</span><span style=\"background-color: #272822\">                                                                                          </span>  \n",
       " ───────────────────────────────────────────────────────────────────────────────────────────────────────────────── \n",
       "</pre>\n"
      ],
      "text/plain": [
       " ─ \u001b[1mExecuting parsed code:\u001b[0m ──────────────────────────────────────────────────────────────────────────────────────── \n",
       "  \u001b[38;2;149;144;119;48;2;39;40;34m# Extracting relevant information from the observation\u001b[0m\u001b[48;2;39;40;34m                                                         \u001b[0m  \n",
       "  \u001b[38;2;248;248;242;48;2;39;40;34mdecorations_keywords\u001b[0m\u001b[38;2;248;248;242;48;2;39;40;34m \u001b[0m\u001b[38;2;255;70;137;48;2;39;40;34m=\u001b[0m\u001b[38;2;248;248;242;48;2;39;40;34m \u001b[0m\u001b[38;2;248;248;242;48;2;39;40;34m[\u001b[0m\u001b[38;2;230;219;116;48;2;39;40;34m\"\u001b[0m\u001b[38;2;230;219;116;48;2;39;40;34mvibrant decorations\u001b[0m\u001b[38;2;230;219;116;48;2;39;40;34m\"\u001b[0m\u001b[38;2;248;248;242;48;2;39;40;34m,\u001b[0m\u001b[38;2;248;248;242;48;2;39;40;34m \u001b[0m\u001b[38;2;230;219;116;48;2;39;40;34m\"\u001b[0m\u001b[38;2;230;219;116;48;2;39;40;34mheroic wonderland\u001b[0m\u001b[38;2;230;219;116;48;2;39;40;34m\"\u001b[0m\u001b[38;2;248;248;242;48;2;39;40;34m,\u001b[0m\u001b[38;2;248;248;242;48;2;39;40;34m \u001b[0m\u001b[38;2;230;219;116;48;2;39;40;34m\"\u001b[0m\u001b[38;2;230;219;116;48;2;39;40;34mexclusive collection\u001b[0m\u001b[38;2;230;219;116;48;2;39;40;34m\"\u001b[0m\u001b[38;2;248;248;242;48;2;39;40;34m,\u001b[0m\u001b[38;2;248;248;242;48;2;39;40;34m \u001b[0m\u001b[38;2;230;219;116;48;2;39;40;34m\"\u001b[0m\u001b[38;2;230;219;116;48;2;39;40;34mcomic book \u001b[0m\u001b[48;2;39;40;34m       \u001b[0m  \n",
       "  \u001b[38;2;230;219;116;48;2;39;40;34mcharacters\u001b[0m\u001b[38;2;230;219;116;48;2;39;40;34m\"\u001b[0m\u001b[38;2;248;248;242;48;2;39;40;34m,\u001b[0m\u001b[38;2;248;248;242;48;2;39;40;34m \u001b[0m\u001b[38;2;230;219;116;48;2;39;40;34m\"\u001b[0m\u001b[38;2;230;219;116;48;2;39;40;34mdynamic scene setters\u001b[0m\u001b[38;2;230;219;116;48;2;39;40;34m\"\u001b[0m\u001b[38;2;248;248;242;48;2;39;40;34m]\u001b[0m\u001b[48;2;39;40;34m                                                                          \u001b[0m  \n",
       "  \u001b[38;2;248;248;242;48;2;39;40;34mentertainment_keywords\u001b[0m\u001b[38;2;248;248;242;48;2;39;40;34m \u001b[0m\u001b[38;2;255;70;137;48;2;39;40;34m=\u001b[0m\u001b[38;2;248;248;242;48;2;39;40;34m \u001b[0m\u001b[38;2;248;248;242;48;2;39;40;34m[\u001b[0m\u001b[38;2;230;219;116;48;2;39;40;34m\"\u001b[0m\u001b[38;2;230;219;116;48;2;39;40;34mthrilling entertainment\u001b[0m\u001b[38;2;230;219;116;48;2;39;40;34m\"\u001b[0m\u001b[38;2;248;248;242;48;2;39;40;34m,\u001b[0m\u001b[38;2;248;248;242;48;2;39;40;34m \u001b[0m\u001b[38;2;230;219;116;48;2;39;40;34m\"\u001b[0m\u001b[38;2;230;219;116;48;2;39;40;34mengaging activities\u001b[0m\u001b[38;2;230;219;116;48;2;39;40;34m\"\u001b[0m\u001b[38;2;248;248;242;48;2;39;40;34m,\u001b[0m\u001b[38;2;248;248;242;48;2;39;40;34m \u001b[0m\u001b[38;2;230;219;116;48;2;39;40;34m\"\u001b[0m\u001b[38;2;230;219;116;48;2;39;40;34msuperhero birthday party \u001b[0m\u001b[48;2;39;40;34m         \u001b[0m  \n",
       "  \u001b[38;2;230;219;116;48;2;39;40;34mpackages\u001b[0m\u001b[38;2;230;219;116;48;2;39;40;34m\"\u001b[0m\u001b[38;2;248;248;242;48;2;39;40;34m,\u001b[0m\u001b[38;2;248;248;242;48;2;39;40;34m \u001b[0m\u001b[38;2;230;219;116;48;2;39;40;34m\"\u001b[0m\u001b[38;2;230;219;116;48;2;39;40;34mheroic acrobatics\u001b[0m\u001b[38;2;230;219;116;48;2;39;40;34m\"\u001b[0m\u001b[38;2;248;248;242;48;2;39;40;34m,\u001b[0m\u001b[38;2;248;248;242;48;2;39;40;34m \u001b[0m\u001b[38;2;230;219;116;48;2;39;40;34m\"\u001b[0m\u001b[38;2;230;219;116;48;2;39;40;34msignature character moves\u001b[0m\u001b[38;2;230;219;116;48;2;39;40;34m\"\u001b[0m\u001b[38;2;248;248;242;48;2;39;40;34m,\u001b[0m\u001b[38;2;248;248;242;48;2;39;40;34m \u001b[0m\u001b[38;2;230;219;116;48;2;39;40;34m\"\u001b[0m\u001b[38;2;230;219;116;48;2;39;40;34minteractive storytelling\u001b[0m\u001b[38;2;230;219;116;48;2;39;40;34m\"\u001b[0m\u001b[38;2;248;248;242;48;2;39;40;34m]\u001b[0m\u001b[48;2;39;40;34m                       \u001b[0m  \n",
       "  \u001b[38;2;248;248;242;48;2;39;40;34mcatering_keywords\u001b[0m\u001b[38;2;248;248;242;48;2;39;40;34m \u001b[0m\u001b[38;2;255;70;137;48;2;39;40;34m=\u001b[0m\u001b[38;2;248;248;242;48;2;39;40;34m \u001b[0m\u001b[38;2;248;248;242;48;2;39;40;34m[\u001b[0m\u001b[38;2;230;219;116;48;2;39;40;34m\"\u001b[0m\u001b[38;2;230;219;116;48;2;39;40;34mHeroic Hummus Platter\u001b[0m\u001b[38;2;230;219;116;48;2;39;40;34m\"\u001b[0m\u001b[38;2;248;248;242;48;2;39;40;34m,\u001b[0m\u001b[38;2;248;248;242;48;2;39;40;34m \u001b[0m\u001b[38;2;230;219;116;48;2;39;40;34m\"\u001b[0m\u001b[38;2;230;219;116;48;2;39;40;34mAvenger Spring Rolls\u001b[0m\u001b[38;2;230;219;116;48;2;39;40;34m\"\u001b[0m\u001b[38;2;248;248;242;48;2;39;40;34m,\u001b[0m\u001b[38;2;248;248;242;48;2;39;40;34m \u001b[0m\u001b[38;2;230;219;116;48;2;39;40;34m\"\u001b[0m\u001b[38;2;230;219;116;48;2;39;40;34mPower-Packed Sliders\u001b[0m\u001b[38;2;230;219;116;48;2;39;40;34m\"\u001b[0m\u001b[38;2;248;248;242;48;2;39;40;34m,\u001b[0m\u001b[38;2;248;248;242;48;2;39;40;34m \u001b[0m\u001b[38;2;230;219;116;48;2;39;40;34m\"\u001b[0m\u001b[38;2;230;219;116;48;2;39;40;34mMighty Pizza\u001b[0m\u001b[38;2;230;219;116;48;2;39;40;34m\"\u001b[0m\u001b[38;2;248;248;242;48;2;39;40;34m,\u001b[0m\u001b[38;2;248;248;242;48;2;39;40;34m \u001b[0m\u001b[48;2;39;40;34m \u001b[0m  \n",
       "  \u001b[38;2;230;219;116;48;2;39;40;34m\"\u001b[0m\u001b[38;2;230;219;116;48;2;39;40;34mMarvel drink ideas\u001b[0m\u001b[38;2;230;219;116;48;2;39;40;34m\"\u001b[0m\u001b[38;2;248;248;242;48;2;39;40;34m,\u001b[0m\u001b[38;2;248;248;242;48;2;39;40;34m \u001b[0m\u001b[38;2;230;219;116;48;2;39;40;34m\"\u001b[0m\u001b[38;2;230;219;116;48;2;39;40;34mbespoke cakes\u001b[0m\u001b[38;2;230;219;116;48;2;39;40;34m\"\u001b[0m\u001b[38;2;248;248;242;48;2;39;40;34m]\u001b[0m\u001b[48;2;39;40;34m                                                                         \u001b[0m  \n",
       "  \u001b[48;2;39;40;34m                                                                                                               \u001b[0m  \n",
       "  \u001b[38;2;149;144;119;48;2;39;40;34m# Creating a summary of luxury superhero-themed party ideas\u001b[0m\u001b[48;2;39;40;34m                                                    \u001b[0m  \n",
       "  \u001b[38;2;248;248;242;48;2;39;40;34msummary\u001b[0m\u001b[38;2;248;248;242;48;2;39;40;34m \u001b[0m\u001b[38;2;255;70;137;48;2;39;40;34m=\u001b[0m\u001b[38;2;248;248;242;48;2;39;40;34m \u001b[0m\u001b[38;2;230;219;116;48;2;39;40;34m\"\u001b[0m\u001b[38;2;230;219;116;48;2;39;40;34mLuxury Superhero-Themed Party Ideas:\u001b[0m\u001b[38;2;174;129;255;48;2;39;40;34m\\n\u001b[0m\u001b[38;2;174;129;255;48;2;39;40;34m\\n\u001b[0m\u001b[38;2;230;219;116;48;2;39;40;34mDecorations:\u001b[0m\u001b[38;2;174;129;255;48;2;39;40;34m\\n\u001b[0m\u001b[38;2;230;219;116;48;2;39;40;34m\"\u001b[0m\u001b[48;2;39;40;34m                                             \u001b[0m  \n",
       "  \u001b[38;2;248;248;242;48;2;39;40;34msummary\u001b[0m\u001b[38;2;248;248;242;48;2;39;40;34m \u001b[0m\u001b[38;2;255;70;137;48;2;39;40;34m+\u001b[0m\u001b[38;2;255;70;137;48;2;39;40;34m=\u001b[0m\u001b[38;2;248;248;242;48;2;39;40;34m \u001b[0m\u001b[38;2;230;219;116;48;2;39;40;34m\"\u001b[0m\u001b[38;2;230;219;116;48;2;39;40;34m- \u001b[0m\u001b[38;2;230;219;116;48;2;39;40;34m\"\u001b[0m\u001b[38;2;248;248;242;48;2;39;40;34m \u001b[0m\u001b[38;2;255;70;137;48;2;39;40;34m+\u001b[0m\u001b[38;2;248;248;242;48;2;39;40;34m \u001b[0m\u001b[38;2;230;219;116;48;2;39;40;34m\"\u001b[0m\u001b[38;2;174;129;255;48;2;39;40;34m\\n\u001b[0m\u001b[38;2;230;219;116;48;2;39;40;34m- \u001b[0m\u001b[38;2;230;219;116;48;2;39;40;34m\"\u001b[0m\u001b[38;2;255;70;137;48;2;39;40;34m.\u001b[0m\u001b[38;2;248;248;242;48;2;39;40;34mjoin\u001b[0m\u001b[38;2;248;248;242;48;2;39;40;34m(\u001b[0m\u001b[38;2;248;248;242;48;2;39;40;34mdecorations_keywords\u001b[0m\u001b[38;2;248;248;242;48;2;39;40;34m)\u001b[0m\u001b[38;2;248;248;242;48;2;39;40;34m \u001b[0m\u001b[38;2;255;70;137;48;2;39;40;34m+\u001b[0m\u001b[38;2;248;248;242;48;2;39;40;34m \u001b[0m\u001b[38;2;230;219;116;48;2;39;40;34m\"\u001b[0m\u001b[38;2;174;129;255;48;2;39;40;34m\\n\u001b[0m\u001b[38;2;174;129;255;48;2;39;40;34m\\n\u001b[0m\u001b[38;2;230;219;116;48;2;39;40;34m\"\u001b[0m\u001b[48;2;39;40;34m                                                   \u001b[0m  \n",
       "  \u001b[38;2;248;248;242;48;2;39;40;34msummary\u001b[0m\u001b[38;2;248;248;242;48;2;39;40;34m \u001b[0m\u001b[38;2;255;70;137;48;2;39;40;34m+\u001b[0m\u001b[38;2;255;70;137;48;2;39;40;34m=\u001b[0m\u001b[38;2;248;248;242;48;2;39;40;34m \u001b[0m\u001b[38;2;230;219;116;48;2;39;40;34m\"\u001b[0m\u001b[38;2;230;219;116;48;2;39;40;34mEntertainment:\u001b[0m\u001b[38;2;174;129;255;48;2;39;40;34m\\n\u001b[0m\u001b[38;2;230;219;116;48;2;39;40;34m\"\u001b[0m\u001b[48;2;39;40;34m                                                                                  \u001b[0m  \n",
       "  \u001b[38;2;248;248;242;48;2;39;40;34msummary\u001b[0m\u001b[38;2;248;248;242;48;2;39;40;34m \u001b[0m\u001b[38;2;255;70;137;48;2;39;40;34m+\u001b[0m\u001b[38;2;255;70;137;48;2;39;40;34m=\u001b[0m\u001b[38;2;248;248;242;48;2;39;40;34m \u001b[0m\u001b[38;2;230;219;116;48;2;39;40;34m\"\u001b[0m\u001b[38;2;230;219;116;48;2;39;40;34m- \u001b[0m\u001b[38;2;230;219;116;48;2;39;40;34m\"\u001b[0m\u001b[38;2;248;248;242;48;2;39;40;34m \u001b[0m\u001b[38;2;255;70;137;48;2;39;40;34m+\u001b[0m\u001b[38;2;248;248;242;48;2;39;40;34m \u001b[0m\u001b[38;2;230;219;116;48;2;39;40;34m\"\u001b[0m\u001b[38;2;174;129;255;48;2;39;40;34m\\n\u001b[0m\u001b[38;2;230;219;116;48;2;39;40;34m- \u001b[0m\u001b[38;2;230;219;116;48;2;39;40;34m\"\u001b[0m\u001b[38;2;255;70;137;48;2;39;40;34m.\u001b[0m\u001b[38;2;248;248;242;48;2;39;40;34mjoin\u001b[0m\u001b[38;2;248;248;242;48;2;39;40;34m(\u001b[0m\u001b[38;2;248;248;242;48;2;39;40;34mentertainment_keywords\u001b[0m\u001b[38;2;248;248;242;48;2;39;40;34m)\u001b[0m\u001b[38;2;248;248;242;48;2;39;40;34m \u001b[0m\u001b[38;2;255;70;137;48;2;39;40;34m+\u001b[0m\u001b[38;2;248;248;242;48;2;39;40;34m \u001b[0m\u001b[38;2;230;219;116;48;2;39;40;34m\"\u001b[0m\u001b[38;2;174;129;255;48;2;39;40;34m\\n\u001b[0m\u001b[38;2;174;129;255;48;2;39;40;34m\\n\u001b[0m\u001b[38;2;230;219;116;48;2;39;40;34m\"\u001b[0m\u001b[48;2;39;40;34m                                                 \u001b[0m  \n",
       "  \u001b[38;2;248;248;242;48;2;39;40;34msummary\u001b[0m\u001b[38;2;248;248;242;48;2;39;40;34m \u001b[0m\u001b[38;2;255;70;137;48;2;39;40;34m+\u001b[0m\u001b[38;2;255;70;137;48;2;39;40;34m=\u001b[0m\u001b[38;2;248;248;242;48;2;39;40;34m \u001b[0m\u001b[38;2;230;219;116;48;2;39;40;34m\"\u001b[0m\u001b[38;2;230;219;116;48;2;39;40;34mCatering:\u001b[0m\u001b[38;2;174;129;255;48;2;39;40;34m\\n\u001b[0m\u001b[38;2;230;219;116;48;2;39;40;34m\"\u001b[0m\u001b[48;2;39;40;34m                                                                                       \u001b[0m  \n",
       "  \u001b[38;2;248;248;242;48;2;39;40;34msummary\u001b[0m\u001b[38;2;248;248;242;48;2;39;40;34m \u001b[0m\u001b[38;2;255;70;137;48;2;39;40;34m+\u001b[0m\u001b[38;2;255;70;137;48;2;39;40;34m=\u001b[0m\u001b[38;2;248;248;242;48;2;39;40;34m \u001b[0m\u001b[38;2;230;219;116;48;2;39;40;34m\"\u001b[0m\u001b[38;2;230;219;116;48;2;39;40;34m- \u001b[0m\u001b[38;2;230;219;116;48;2;39;40;34m\"\u001b[0m\u001b[38;2;248;248;242;48;2;39;40;34m \u001b[0m\u001b[38;2;255;70;137;48;2;39;40;34m+\u001b[0m\u001b[38;2;248;248;242;48;2;39;40;34m \u001b[0m\u001b[38;2;230;219;116;48;2;39;40;34m\"\u001b[0m\u001b[38;2;174;129;255;48;2;39;40;34m\\n\u001b[0m\u001b[38;2;230;219;116;48;2;39;40;34m- \u001b[0m\u001b[38;2;230;219;116;48;2;39;40;34m\"\u001b[0m\u001b[38;2;255;70;137;48;2;39;40;34m.\u001b[0m\u001b[38;2;248;248;242;48;2;39;40;34mjoin\u001b[0m\u001b[38;2;248;248;242;48;2;39;40;34m(\u001b[0m\u001b[38;2;248;248;242;48;2;39;40;34mcatering_keywords\u001b[0m\u001b[38;2;248;248;242;48;2;39;40;34m)\u001b[0m\u001b[38;2;248;248;242;48;2;39;40;34m \u001b[0m\u001b[38;2;255;70;137;48;2;39;40;34m+\u001b[0m\u001b[38;2;248;248;242;48;2;39;40;34m \u001b[0m\u001b[38;2;230;219;116;48;2;39;40;34m\"\u001b[0m\u001b[38;2;174;129;255;48;2;39;40;34m\\n\u001b[0m\u001b[38;2;230;219;116;48;2;39;40;34m\"\u001b[0m\u001b[48;2;39;40;34m                                                        \u001b[0m  \n",
       "  \u001b[48;2;39;40;34m                                                                                                               \u001b[0m  \n",
       "  \u001b[38;2;248;248;242;48;2;39;40;34mfinal_answer\u001b[0m\u001b[38;2;248;248;242;48;2;39;40;34m(\u001b[0m\u001b[38;2;248;248;242;48;2;39;40;34msummary\u001b[0m\u001b[38;2;248;248;242;48;2;39;40;34m)\u001b[0m\u001b[48;2;39;40;34m                                                                                          \u001b[0m  \n",
       " ───────────────────────────────────────────────────────────────────────────────────────────────────────────────── \n"
      ]
     },
     "metadata": {},
     "output_type": "display_data"
    },
    {
     "data": {
      "text/html": [
       "<pre style=\"white-space:pre;overflow-x:auto;line-height:normal;font-family:Menlo,'DejaVu Sans Mono',consolas,'Courier New',monospace\"><span style=\"color: #d4b702; text-decoration-color: #d4b702; font-weight: bold\">Out - Final answer: Luxury Superhero-Themed Party Ideas:</span>\n",
       "\n",
       "<span style=\"color: #d4b702; text-decoration-color: #d4b702; font-weight: bold\">Decorations:</span>\n",
       "<span style=\"color: #d4b702; text-decoration-color: #d4b702; font-weight: bold\">- vibrant decorations</span>\n",
       "<span style=\"color: #d4b702; text-decoration-color: #d4b702; font-weight: bold\">- heroic wonderland</span>\n",
       "<span style=\"color: #d4b702; text-decoration-color: #d4b702; font-weight: bold\">- exclusive collection</span>\n",
       "<span style=\"color: #d4b702; text-decoration-color: #d4b702; font-weight: bold\">- comic book characters</span>\n",
       "<span style=\"color: #d4b702; text-decoration-color: #d4b702; font-weight: bold\">- dynamic scene setters</span>\n",
       "\n",
       "<span style=\"color: #d4b702; text-decoration-color: #d4b702; font-weight: bold\">Entertainment:</span>\n",
       "<span style=\"color: #d4b702; text-decoration-color: #d4b702; font-weight: bold\">- thrilling entertainment</span>\n",
       "<span style=\"color: #d4b702; text-decoration-color: #d4b702; font-weight: bold\">- engaging activities</span>\n",
       "<span style=\"color: #d4b702; text-decoration-color: #d4b702; font-weight: bold\">- superhero birthday party packages</span>\n",
       "<span style=\"color: #d4b702; text-decoration-color: #d4b702; font-weight: bold\">- heroic acrobatics</span>\n",
       "<span style=\"color: #d4b702; text-decoration-color: #d4b702; font-weight: bold\">- signature character moves</span>\n",
       "<span style=\"color: #d4b702; text-decoration-color: #d4b702; font-weight: bold\">- interactive storytelling</span>\n",
       "\n",
       "<span style=\"color: #d4b702; text-decoration-color: #d4b702; font-weight: bold\">Catering:</span>\n",
       "<span style=\"color: #d4b702; text-decoration-color: #d4b702; font-weight: bold\">- Heroic Hummus Platter</span>\n",
       "<span style=\"color: #d4b702; text-decoration-color: #d4b702; font-weight: bold\">- Avenger Spring Rolls</span>\n",
       "<span style=\"color: #d4b702; text-decoration-color: #d4b702; font-weight: bold\">- Power-Packed Sliders</span>\n",
       "<span style=\"color: #d4b702; text-decoration-color: #d4b702; font-weight: bold\">- Mighty Pizza</span>\n",
       "<span style=\"color: #d4b702; text-decoration-color: #d4b702; font-weight: bold\">- Marvel drink ideas</span>\n",
       "<span style=\"color: #d4b702; text-decoration-color: #d4b702; font-weight: bold\">- bespoke cakes</span>\n",
       "\n",
       "</pre>\n"
      ],
      "text/plain": [
       "\u001b[1;38;2;212;183;2mOut - Final answer: Luxury Superhero-Themed Party Ideas:\u001b[0m\n",
       "\n",
       "\u001b[1;38;2;212;183;2mDecorations:\u001b[0m\n",
       "\u001b[1;38;2;212;183;2m- vibrant decorations\u001b[0m\n",
       "\u001b[1;38;2;212;183;2m- heroic wonderland\u001b[0m\n",
       "\u001b[1;38;2;212;183;2m- exclusive collection\u001b[0m\n",
       "\u001b[1;38;2;212;183;2m- comic book characters\u001b[0m\n",
       "\u001b[1;38;2;212;183;2m- dynamic scene setters\u001b[0m\n",
       "\n",
       "\u001b[1;38;2;212;183;2mEntertainment:\u001b[0m\n",
       "\u001b[1;38;2;212;183;2m- thrilling entertainment\u001b[0m\n",
       "\u001b[1;38;2;212;183;2m- engaging activities\u001b[0m\n",
       "\u001b[1;38;2;212;183;2m- superhero birthday party packages\u001b[0m\n",
       "\u001b[1;38;2;212;183;2m- heroic acrobatics\u001b[0m\n",
       "\u001b[1;38;2;212;183;2m- signature character moves\u001b[0m\n",
       "\u001b[1;38;2;212;183;2m- interactive storytelling\u001b[0m\n",
       "\n",
       "\u001b[1;38;2;212;183;2mCatering:\u001b[0m\n",
       "\u001b[1;38;2;212;183;2m- Heroic Hummus Platter\u001b[0m\n",
       "\u001b[1;38;2;212;183;2m- Avenger Spring Rolls\u001b[0m\n",
       "\u001b[1;38;2;212;183;2m- Power-Packed Sliders\u001b[0m\n",
       "\u001b[1;38;2;212;183;2m- Mighty Pizza\u001b[0m\n",
       "\u001b[1;38;2;212;183;2m- Marvel drink ideas\u001b[0m\n",
       "\u001b[1;38;2;212;183;2m- bespoke cakes\u001b[0m\n",
       "\n"
      ]
     },
     "metadata": {},
     "output_type": "display_data"
    },
    {
     "data": {
      "text/html": [
       "<pre style=\"white-space:pre;overflow-x:auto;line-height:normal;font-family:Menlo,'DejaVu Sans Mono',consolas,'Courier New',monospace\"><span style=\"color: #7f7f7f; text-decoration-color: #7f7f7f\">[Step 4: Duration 3.92 seconds| Input tokens: 14,393 | Output tokens: 604]</span>\n",
       "</pre>\n"
      ],
      "text/plain": [
       "\u001b[2m[Step 4: Duration 3.92 seconds| Input tokens: 14,393 | Output tokens: 604]\u001b[0m\n"
      ]
     },
     "metadata": {},
     "output_type": "display_data"
    },
    {
     "name": "stdout",
     "output_type": "stream",
     "text": [
      "Luxury Superhero-Themed Party Ideas:\n",
      "\n",
      "Decorations:\n",
      "- vibrant decorations\n",
      "- heroic wonderland\n",
      "- exclusive collection\n",
      "- comic book characters\n",
      "- dynamic scene setters\n",
      "\n",
      "Entertainment:\n",
      "- thrilling entertainment\n",
      "- engaging activities\n",
      "- superhero birthday party packages\n",
      "- heroic acrobatics\n",
      "- signature character moves\n",
      "- interactive storytelling\n",
      "\n",
      "Catering:\n",
      "- Heroic Hummus Platter\n",
      "- Avenger Spring Rolls\n",
      "- Power-Packed Sliders\n",
      "- Mighty Pizza\n",
      "- Marvel drink ideas\n",
      "- bespoke cakes\n",
      "\n"
     ]
    }
   ],
   "source": [
    "from smolagents import CodeAgent,DuckDuckGoSearchTool,InferenceClientModel\n",
    "\n",
    "\n",
    "search_tool = DuckDuckGoSearchTool()\n",
    "model=InferenceClientModel()\n",
    "agent = CodeAgent(\n",
    "    model=model,\n",
    "    tools=[search_tool],\n",
    ")\n",
    "\n",
    "\n",
    "response=agent.run(\"Search for luxury superhero-themed party ideas, including decorations, entertainment, and catering.\")\n",
    "\n",
    "print(response)"
   ]
  },
  {
   "cell_type": "markdown",
   "id": "3c0bb656",
   "metadata": {},
   "source": [
    "- Analyzuje požiadavku: Alfredov agent identifikuje kľúčové prvky dotazu – plánovanie luxusnej superhrdinskej párty so zameraním na výzdobu, zábavu a catering.\n",
    "\n",
    "- Vykonáva vyhľadávanie: Agent využíva DuckDuckGo na vyhľadanie najrelevantnejších a najaktuálnejších informácií, pričom dbá na to, aby výsledky zodpovedali Alfredovým nárokom na luxusnú udalosť.\n",
    "\n",
    "- Syntetizuje informácie: Po zhromaždení výsledkov agent spracuje informácie do uceleného a použiteľného plánu pre Alfreda, ktorý pokrýva všetky aspekty párty.\n",
    "\n",
    "- Ukladá pre budúce použitie: Agent uloží získané informácie pre jednoduchý prístup pri plánovaní ďalších udalostí, čím zvyšuje efektivitu pri ďalších úlohách."
   ]
  },
  {
   "cell_type": "markdown",
   "id": "0af8cf5e",
   "metadata": {},
   "source": [
    "\n",
    "Using Semantic Search , we create a tool that queries a database of technical documentation or specialized knowledge.\n",
    "\n",
    " **Alfred also uses semantic search so he can find the most RELEVANT INFORMATION for his needs**"
   ]
  },
  {
   "cell_type": "code",
   "execution_count": 10,
   "id": "6e9e9f44",
   "metadata": {},
   "outputs": [],
   "source": [
    "from smolagents import Tool,CodeAgent,InferenceClientModel\n",
    "from langchain_community.retrievers import BM25Retriever  # for search \n",
    "from langchain.docstore.document import Document\n",
    "from langchain.text_splitter import RecursiveCharacterTextSplitter # to split text into chunks"
   ]
  },
  {
   "cell_type": "code",
   "execution_count": null,
   "id": "8b284f08",
   "metadata": {},
   "outputs": [
    {
     "data": {
      "text/html": [
       "<pre style=\"white-space:pre;overflow-x:auto;line-height:normal;font-family:Menlo,'DejaVu Sans Mono',consolas,'Courier New',monospace\"><span style=\"color: #d4b702; text-decoration-color: #d4b702\">╭──────────────────────────────────────────────────── </span><span style=\"color: #d4b702; text-decoration-color: #d4b702; font-weight: bold\">New run</span><span style=\"color: #d4b702; text-decoration-color: #d4b702\"> ────────────────────────────────────────────────────╮</span>\n",
       "<span style=\"color: #d4b702; text-decoration-color: #d4b702\">│</span>                                                                                                                 <span style=\"color: #d4b702; text-decoration-color: #d4b702\">│</span>\n",
       "<span style=\"color: #d4b702; text-decoration-color: #d4b702\">│</span> <span style=\"font-weight: bold\">What are some unique and creative party planning ideas to celebrate birthday with my girlies ?</span>                  <span style=\"color: #d4b702; text-decoration-color: #d4b702\">│</span>\n",
       "<span style=\"color: #d4b702; text-decoration-color: #d4b702\">│</span>                                                                                                                 <span style=\"color: #d4b702; text-decoration-color: #d4b702\">│</span>\n",
       "<span style=\"color: #d4b702; text-decoration-color: #d4b702\">╰─ InferenceClientModel - Qwen/Qwen2.5-Coder-32B-Instruct ────────────────────────────────────────────────────────╯</span>\n",
       "</pre>\n"
      ],
      "text/plain": [
       "\u001b[38;2;212;183;2m╭─\u001b[0m\u001b[38;2;212;183;2m───────────────────────────────────────────────────\u001b[0m\u001b[38;2;212;183;2m \u001b[0m\u001b[1;38;2;212;183;2mNew run\u001b[0m\u001b[38;2;212;183;2m \u001b[0m\u001b[38;2;212;183;2m───────────────────────────────────────────────────\u001b[0m\u001b[38;2;212;183;2m─╮\u001b[0m\n",
       "\u001b[38;2;212;183;2m│\u001b[0m                                                                                                                 \u001b[38;2;212;183;2m│\u001b[0m\n",
       "\u001b[38;2;212;183;2m│\u001b[0m \u001b[1mWhat are some unique and creative party planning ideas to celebrate birthday with my girlies ?\u001b[0m                  \u001b[38;2;212;183;2m│\u001b[0m\n",
       "\u001b[38;2;212;183;2m│\u001b[0m                                                                                                                 \u001b[38;2;212;183;2m│\u001b[0m\n",
       "\u001b[38;2;212;183;2m╰─\u001b[0m\u001b[38;2;212;183;2m InferenceClientModel - Qwen/Qwen2.5-Coder-32B-Instruct \u001b[0m\u001b[38;2;212;183;2m───────────────────────────────────────────────────────\u001b[0m\u001b[38;2;212;183;2m─╯\u001b[0m\n"
      ]
     },
     "metadata": {},
     "output_type": "display_data"
    },
    {
     "data": {
      "text/html": [
       "<pre style=\"white-space:pre;overflow-x:auto;line-height:normal;font-family:Menlo,'DejaVu Sans Mono',consolas,'Courier New',monospace\"><span style=\"color: #d4b702; text-decoration-color: #d4b702\">━━━━━━━━━━━━━━━━━━━━━━━━━━━━━━━━━━━━━━━━━━━━━━━━━━━━━ </span><span style=\"font-weight: bold\">Step </span><span style=\"color: #008080; text-decoration-color: #008080; font-weight: bold\">1</span><span style=\"color: #d4b702; text-decoration-color: #d4b702\"> ━━━━━━━━━━━━━━━━━━━━━━━━━━━━━━━━━━━━━━━━━━━━━━━━━━━━━━</span>\n",
       "</pre>\n"
      ],
      "text/plain": [
       "\u001b[38;2;212;183;2m━━━━━━━━━━━━━━━━━━━━━━━━━━━━━━━━━━━━━━━━━━━━━━━━━━━━━ \u001b[0m\u001b[1mStep \u001b[0m\u001b[1;36m1\u001b[0m\u001b[38;2;212;183;2m ━━━━━━━━━━━━━━━━━━━━━━━━━━━━━━━━━━━━━━━━━━━━━━━━━━━━━━\u001b[0m\n"
      ]
     },
     "metadata": {},
     "output_type": "display_data"
    },
    {
     "data": {
      "text/html": [
       "<pre style=\"white-space:pre;overflow-x:auto;line-height:normal;font-family:Menlo,'DejaVu Sans Mono',consolas,'Courier New',monospace\"> ─ <span style=\"font-weight: bold\">Executing parsed code:</span> ──────────────────────────────────────────────────────────────────────────────────────── \n",
       "  <span style=\"color: #f8f8f2; text-decoration-color: #f8f8f2; background-color: #272822\">unique_party_ideas </span><span style=\"color: #ff4689; text-decoration-color: #ff4689; background-color: #272822\">=</span><span style=\"color: #f8f8f2; text-decoration-color: #f8f8f2; background-color: #272822\"> PartyRetriever(query</span><span style=\"color: #ff4689; text-decoration-color: #ff4689; background-color: #272822\">=</span><span style=\"color: #e6db74; text-decoration-color: #e6db74; background-color: #272822\">\"unique and creative party ideas for birthday with girls\"</span><span style=\"color: #f8f8f2; text-decoration-color: #f8f8f2; background-color: #272822\">)</span><span style=\"background-color: #272822\">           </span>  \n",
       "  <span style=\"color: #f8f8f2; text-decoration-color: #f8f8f2; background-color: #272822\">print(unique_party_ideas)</span><span style=\"background-color: #272822\">                                                                                      </span>  \n",
       " ───────────────────────────────────────────────────────────────────────────────────────────────────────────────── \n",
       "</pre>\n"
      ],
      "text/plain": [
       " ─ \u001b[1mExecuting parsed code:\u001b[0m ──────────────────────────────────────────────────────────────────────────────────────── \n",
       "  \u001b[38;2;248;248;242;48;2;39;40;34munique_party_ideas\u001b[0m\u001b[38;2;248;248;242;48;2;39;40;34m \u001b[0m\u001b[38;2;255;70;137;48;2;39;40;34m=\u001b[0m\u001b[38;2;248;248;242;48;2;39;40;34m \u001b[0m\u001b[38;2;248;248;242;48;2;39;40;34mPartyRetriever\u001b[0m\u001b[38;2;248;248;242;48;2;39;40;34m(\u001b[0m\u001b[38;2;248;248;242;48;2;39;40;34mquery\u001b[0m\u001b[38;2;255;70;137;48;2;39;40;34m=\u001b[0m\u001b[38;2;230;219;116;48;2;39;40;34m\"\u001b[0m\u001b[38;2;230;219;116;48;2;39;40;34munique and creative party ideas for birthday with girls\u001b[0m\u001b[38;2;230;219;116;48;2;39;40;34m\"\u001b[0m\u001b[38;2;248;248;242;48;2;39;40;34m)\u001b[0m\u001b[48;2;39;40;34m           \u001b[0m  \n",
       "  \u001b[38;2;248;248;242;48;2;39;40;34mprint\u001b[0m\u001b[38;2;248;248;242;48;2;39;40;34m(\u001b[0m\u001b[38;2;248;248;242;48;2;39;40;34munique_party_ideas\u001b[0m\u001b[38;2;248;248;242;48;2;39;40;34m)\u001b[0m\u001b[48;2;39;40;34m                                                                                      \u001b[0m  \n",
       " ───────────────────────────────────────────────────────────────────────────────────────────────────────────────── \n"
      ]
     },
     "metadata": {},
     "output_type": "display_data"
    },
    {
     "data": {
      "text/html": [
       "<pre style=\"white-space:pre;overflow-x:auto;line-height:normal;font-family:Menlo,'DejaVu Sans Mono',consolas,'Courier New',monospace\"><span style=\"font-weight: bold\">Execution logs:</span>\n",
       "\n",
       "Retrieved ideas:\n",
       "\n",
       "\n",
       "===== Idea 0 =====\n",
       "Coffeehouse Poetry Night: Recreate a cozy café with comfy seating, warm lighting, and an open mic for poetry or \n",
       "music. Serve coffee, pastries, and encourage creative expression.\n",
       "\n",
       "===== Idea 1 =====\n",
       "Beach/Tropical Summer Theme: Bring the beach to your party with tropical plants, bright colors, tiki torches, and a\n",
       "laid-back vibe. Serve fruity drinks and play beach games for a fun summer escape.\n",
       "\n",
       "===== Idea 2 =====\n",
       "Valentine's Romantic Soirée: Set a romantic mood with red and pink decor, candlelight, and heart-shaped accents. \n",
       "Offer sweet treats and slow music for couples and friends alike.\n",
       "\n",
       "===== Idea 3 =====\n",
       "Spa and Relaxation Retreat: Create a tranquil atmosphere with soft music, scented candles, and plush robes. Offer \n",
       "massages, facials, and healthy snacks for a rejuvenating celebration.\n",
       "\n",
       "===== Idea 4 =====\n",
       "Vintage Romance Theme: Celebrate love with antique decor, lace tablecloths, and classic love songs. Use candlelight\n",
       "and roses for a timeless, intimate setting.\n",
       "\n",
       "Out: None\n",
       "</pre>\n"
      ],
      "text/plain": [
       "\u001b[1mExecution logs:\u001b[0m\n",
       "\n",
       "Retrieved ideas:\n",
       "\n",
       "\n",
       "===== Idea 0 =====\n",
       "Coffeehouse Poetry Night: Recreate a cozy café with comfy seating, warm lighting, and an open mic for poetry or \n",
       "music. Serve coffee, pastries, and encourage creative expression.\n",
       "\n",
       "===== Idea 1 =====\n",
       "Beach/Tropical Summer Theme: Bring the beach to your party with tropical plants, bright colors, tiki torches, and a\n",
       "laid-back vibe. Serve fruity drinks and play beach games for a fun summer escape.\n",
       "\n",
       "===== Idea 2 =====\n",
       "Valentine's Romantic Soirée: Set a romantic mood with red and pink decor, candlelight, and heart-shaped accents. \n",
       "Offer sweet treats and slow music for couples and friends alike.\n",
       "\n",
       "===== Idea 3 =====\n",
       "Spa and Relaxation Retreat: Create a tranquil atmosphere with soft music, scented candles, and plush robes. Offer \n",
       "massages, facials, and healthy snacks for a rejuvenating celebration.\n",
       "\n",
       "===== Idea 4 =====\n",
       "Vintage Romance Theme: Celebrate love with antique decor, lace tablecloths, and classic love songs. Use candlelight\n",
       "and roses for a timeless, intimate setting.\n",
       "\n",
       "Out: None\n"
      ]
     },
     "metadata": {},
     "output_type": "display_data"
    },
    {
     "data": {
      "text/html": [
       "<pre style=\"white-space:pre;overflow-x:auto;line-height:normal;font-family:Menlo,'DejaVu Sans Mono',consolas,'Courier New',monospace\"><span style=\"color: #7f7f7f; text-decoration-color: #7f7f7f\">[Step 1: Duration 1.78 seconds| Input tokens: 2,004 | Output tokens: 67]</span>\n",
       "</pre>\n"
      ],
      "text/plain": [
       "\u001b[2m[Step 1: Duration 1.78 seconds| Input tokens: 2,004 | Output tokens: 67]\u001b[0m\n"
      ]
     },
     "metadata": {},
     "output_type": "display_data"
    },
    {
     "data": {
      "text/html": [
       "<pre style=\"white-space:pre;overflow-x:auto;line-height:normal;font-family:Menlo,'DejaVu Sans Mono',consolas,'Courier New',monospace\"><span style=\"color: #d4b702; text-decoration-color: #d4b702\">━━━━━━━━━━━━━━━━━━━━━━━━━━━━━━━━━━━━━━━━━━━━━━━━━━━━━ </span><span style=\"font-weight: bold\">Step </span><span style=\"color: #008080; text-decoration-color: #008080; font-weight: bold\">2</span><span style=\"color: #d4b702; text-decoration-color: #d4b702\"> ━━━━━━━━━━━━━━━━━━━━━━━━━━━━━━━━━━━━━━━━━━━━━━━━━━━━━━</span>\n",
       "</pre>\n"
      ],
      "text/plain": [
       "\u001b[38;2;212;183;2m━━━━━━━━━━━━━━━━━━━━━━━━━━━━━━━━━━━━━━━━━━━━━━━━━━━━━ \u001b[0m\u001b[1mStep \u001b[0m\u001b[1;36m2\u001b[0m\u001b[38;2;212;183;2m ━━━━━━━━━━━━━━━━━━━━━━━━━━━━━━━━━━━━━━━━━━━━━━━━━━━━━━\u001b[0m\n"
      ]
     },
     "metadata": {},
     "output_type": "display_data"
    },
    {
     "data": {
      "text/html": [
       "<pre style=\"white-space:pre;overflow-x:auto;line-height:normal;font-family:Menlo,'DejaVu Sans Mono',consolas,'Courier New',monospace\"> ─ <span style=\"font-weight: bold\">Executing parsed code:</span> ──────────────────────────────────────────────────────────────────────────────────────── \n",
       "  <span style=\"color: #959077; text-decoration-color: #959077; background-color: #272822\"># Modifying Idea 0 for a girls' birthday party</span><span style=\"background-color: #272822\">                                                                 </span>  \n",
       "  <span style=\"color: #f8f8f2; text-decoration-color: #f8f8f2; background-color: #272822\">modified_coffeehouse_idea </span><span style=\"color: #ff4689; text-decoration-color: #ff4689; background-color: #272822\">=</span><span style=\"color: #f8f8f2; text-decoration-color: #f8f8f2; background-color: #272822\"> </span><span style=\"color: #e6db74; text-decoration-color: #e6db74; background-color: #272822\">\"Coffeehouse Poetry Night: Host a themed birthday party like a cozy café for the </span><span style=\"background-color: #272822\">  </span>  \n",
       "  <span style=\"color: #e6db74; text-decoration-color: #e6db74; background-color: #272822\">girls. Add comfortable seating, warm lighting, and an open mic night for poetry or karaoke. Serve gourmet </span><span style=\"background-color: #272822\">     </span>  \n",
       "  <span style=\"color: #e6db74; text-decoration-color: #e6db74; background-color: #272822\">coffee, cupcakes, and provide cozy blankets and pillows for snuggling.\"</span><span style=\"background-color: #272822\">                                        </span>  \n",
       "  <span style=\"background-color: #272822\">                                                                                                               </span>  \n",
       "  <span style=\"color: #959077; text-decoration-color: #959077; background-color: #272822\"># Modifying Idea 3 for a girls' birthday party</span><span style=\"background-color: #272822\">                                                                 </span>  \n",
       "  <span style=\"color: #f8f8f2; text-decoration-color: #f8f8f2; background-color: #272822\">modified_spa_idea </span><span style=\"color: #ff4689; text-decoration-color: #ff4689; background-color: #272822\">=</span><span style=\"color: #f8f8f2; text-decoration-color: #f8f8f2; background-color: #272822\"> </span><span style=\"color: #e6db74; text-decoration-color: #e6db74; background-color: #272822\">\"Spa and Relaxation Retreat: Organize a spa-themed birthday party for the girls with soft </span><span style=\"background-color: #272822\"> </span>  \n",
       "  <span style=\"color: #e6db74; text-decoration-color: #e6db74; background-color: #272822\">music, scented candles, and plush robes. Offer mini massages, facials, beauty treatments, and healthy snacks. </span><span style=\"background-color: #272822\"> </span>  \n",
       "  <span style=\"color: #e6db74; text-decoration-color: #e6db74; background-color: #272822\">You could also include a photo booth with spa-related props.\"</span><span style=\"background-color: #272822\">                                                  </span>  \n",
       "  <span style=\"background-color: #272822\">                                                                                                               </span>  \n",
       "  <span style=\"color: #f8f8f2; text-decoration-color: #f8f8f2; background-color: #272822\">print(</span><span style=\"color: #e6db74; text-decoration-color: #e6db74; background-color: #272822\">\"Modified Coffeehouse Poetry Night Idea:\"</span><span style=\"color: #f8f8f2; text-decoration-color: #f8f8f2; background-color: #272822\">, modified_coffeehouse_idea)</span><span style=\"background-color: #272822\">                                    </span>  \n",
       "  <span style=\"color: #f8f8f2; text-decoration-color: #f8f8f2; background-color: #272822\">print(</span><span style=\"color: #e6db74; text-decoration-color: #e6db74; background-color: #272822\">\"Modified Spa and Relaxation Retreat Idea:\"</span><span style=\"color: #f8f8f2; text-decoration-color: #f8f8f2; background-color: #272822\">, modified_spa_idea)</span><span style=\"background-color: #272822\">                                          </span>  \n",
       " ───────────────────────────────────────────────────────────────────────────────────────────────────────────────── \n",
       "</pre>\n"
      ],
      "text/plain": [
       " ─ \u001b[1mExecuting parsed code:\u001b[0m ──────────────────────────────────────────────────────────────────────────────────────── \n",
       "  \u001b[38;2;149;144;119;48;2;39;40;34m# Modifying Idea 0 for a girls' birthday party\u001b[0m\u001b[48;2;39;40;34m                                                                 \u001b[0m  \n",
       "  \u001b[38;2;248;248;242;48;2;39;40;34mmodified_coffeehouse_idea\u001b[0m\u001b[38;2;248;248;242;48;2;39;40;34m \u001b[0m\u001b[38;2;255;70;137;48;2;39;40;34m=\u001b[0m\u001b[38;2;248;248;242;48;2;39;40;34m \u001b[0m\u001b[38;2;230;219;116;48;2;39;40;34m\"\u001b[0m\u001b[38;2;230;219;116;48;2;39;40;34mCoffeehouse Poetry Night: Host a themed birthday party like a cozy café for the \u001b[0m\u001b[48;2;39;40;34m  \u001b[0m  \n",
       "  \u001b[38;2;230;219;116;48;2;39;40;34mgirls. Add comfortable seating, warm lighting, and an open mic night for poetry or karaoke. Serve gourmet \u001b[0m\u001b[48;2;39;40;34m     \u001b[0m  \n",
       "  \u001b[38;2;230;219;116;48;2;39;40;34mcoffee, cupcakes, and provide cozy blankets and pillows for snuggling.\u001b[0m\u001b[38;2;230;219;116;48;2;39;40;34m\"\u001b[0m\u001b[48;2;39;40;34m                                        \u001b[0m  \n",
       "  \u001b[48;2;39;40;34m                                                                                                               \u001b[0m  \n",
       "  \u001b[38;2;149;144;119;48;2;39;40;34m# Modifying Idea 3 for a girls' birthday party\u001b[0m\u001b[48;2;39;40;34m                                                                 \u001b[0m  \n",
       "  \u001b[38;2;248;248;242;48;2;39;40;34mmodified_spa_idea\u001b[0m\u001b[38;2;248;248;242;48;2;39;40;34m \u001b[0m\u001b[38;2;255;70;137;48;2;39;40;34m=\u001b[0m\u001b[38;2;248;248;242;48;2;39;40;34m \u001b[0m\u001b[38;2;230;219;116;48;2;39;40;34m\"\u001b[0m\u001b[38;2;230;219;116;48;2;39;40;34mSpa and Relaxation Retreat: Organize a spa-themed birthday party for the girls with soft \u001b[0m\u001b[48;2;39;40;34m \u001b[0m  \n",
       "  \u001b[38;2;230;219;116;48;2;39;40;34mmusic, scented candles, and plush robes. Offer mini massages, facials, beauty treatments, and healthy snacks. \u001b[0m\u001b[48;2;39;40;34m \u001b[0m  \n",
       "  \u001b[38;2;230;219;116;48;2;39;40;34mYou could also include a photo booth with spa-related props.\u001b[0m\u001b[38;2;230;219;116;48;2;39;40;34m\"\u001b[0m\u001b[48;2;39;40;34m                                                  \u001b[0m  \n",
       "  \u001b[48;2;39;40;34m                                                                                                               \u001b[0m  \n",
       "  \u001b[38;2;248;248;242;48;2;39;40;34mprint\u001b[0m\u001b[38;2;248;248;242;48;2;39;40;34m(\u001b[0m\u001b[38;2;230;219;116;48;2;39;40;34m\"\u001b[0m\u001b[38;2;230;219;116;48;2;39;40;34mModified Coffeehouse Poetry Night Idea:\u001b[0m\u001b[38;2;230;219;116;48;2;39;40;34m\"\u001b[0m\u001b[38;2;248;248;242;48;2;39;40;34m,\u001b[0m\u001b[38;2;248;248;242;48;2;39;40;34m \u001b[0m\u001b[38;2;248;248;242;48;2;39;40;34mmodified_coffeehouse_idea\u001b[0m\u001b[38;2;248;248;242;48;2;39;40;34m)\u001b[0m\u001b[48;2;39;40;34m                                    \u001b[0m  \n",
       "  \u001b[38;2;248;248;242;48;2;39;40;34mprint\u001b[0m\u001b[38;2;248;248;242;48;2;39;40;34m(\u001b[0m\u001b[38;2;230;219;116;48;2;39;40;34m\"\u001b[0m\u001b[38;2;230;219;116;48;2;39;40;34mModified Spa and Relaxation Retreat Idea:\u001b[0m\u001b[38;2;230;219;116;48;2;39;40;34m\"\u001b[0m\u001b[38;2;248;248;242;48;2;39;40;34m,\u001b[0m\u001b[38;2;248;248;242;48;2;39;40;34m \u001b[0m\u001b[38;2;248;248;242;48;2;39;40;34mmodified_spa_idea\u001b[0m\u001b[38;2;248;248;242;48;2;39;40;34m)\u001b[0m\u001b[48;2;39;40;34m                                          \u001b[0m  \n",
       " ───────────────────────────────────────────────────────────────────────────────────────────────────────────────── \n"
      ]
     },
     "metadata": {},
     "output_type": "display_data"
    },
    {
     "data": {
      "text/html": [
       "<pre style=\"white-space:pre;overflow-x:auto;line-height:normal;font-family:Menlo,'DejaVu Sans Mono',consolas,'Courier New',monospace\"><span style=\"font-weight: bold\">Execution logs:</span>\n",
       "Modified Coffeehouse Poetry Night Idea: Coffeehouse Poetry Night: Host a themed birthday party like a cozy café for\n",
       "the girls. Add comfortable seating, warm lighting, and an open mic night for poetry or karaoke. Serve gourmet \n",
       "coffee, cupcakes, and provide cozy blankets and pillows for snuggling.\n",
       "Modified Spa and Relaxation Retreat Idea: Spa and Relaxation Retreat: Organize a spa-themed birthday party for the \n",
       "girls with soft music, scented candles, and plush robes. Offer mini massages, facials, beauty treatments, and \n",
       "healthy snacks. You could also include a photo booth with spa-related props.\n",
       "\n",
       "Out: None\n",
       "</pre>\n"
      ],
      "text/plain": [
       "\u001b[1mExecution logs:\u001b[0m\n",
       "Modified Coffeehouse Poetry Night Idea: Coffeehouse Poetry Night: Host a themed birthday party like a cozy café for\n",
       "the girls. Add comfortable seating, warm lighting, and an open mic night for poetry or karaoke. Serve gourmet \n",
       "coffee, cupcakes, and provide cozy blankets and pillows for snuggling.\n",
       "Modified Spa and Relaxation Retreat Idea: Spa and Relaxation Retreat: Organize a spa-themed birthday party for the \n",
       "girls with soft music, scented candles, and plush robes. Offer mini massages, facials, beauty treatments, and \n",
       "healthy snacks. You could also include a photo booth with spa-related props.\n",
       "\n",
       "Out: None\n"
      ]
     },
     "metadata": {},
     "output_type": "display_data"
    },
    {
     "data": {
      "text/html": [
       "<pre style=\"white-space:pre;overflow-x:auto;line-height:normal;font-family:Menlo,'DejaVu Sans Mono',consolas,'Courier New',monospace\"><span style=\"color: #7f7f7f; text-decoration-color: #7f7f7f\">[Step 2: Duration 3.74 seconds| Input tokens: 4,385 | Output tokens: 343]</span>\n",
       "</pre>\n"
      ],
      "text/plain": [
       "\u001b[2m[Step 2: Duration 3.74 seconds| Input tokens: 4,385 | Output tokens: 343]\u001b[0m\n"
      ]
     },
     "metadata": {},
     "output_type": "display_data"
    },
    {
     "data": {
      "text/html": [
       "<pre style=\"white-space:pre;overflow-x:auto;line-height:normal;font-family:Menlo,'DejaVu Sans Mono',consolas,'Courier New',monospace\"><span style=\"color: #d4b702; text-decoration-color: #d4b702\">━━━━━━━━━━━━━━━━━━━━━━━━━━━━━━━━━━━━━━━━━━━━━━━━━━━━━ </span><span style=\"font-weight: bold\">Step </span><span style=\"color: #008080; text-decoration-color: #008080; font-weight: bold\">3</span><span style=\"color: #d4b702; text-decoration-color: #d4b702\"> ━━━━━━━━━━━━━━━━━━━━━━━━━━━━━━━━━━━━━━━━━━━━━━━━━━━━━━</span>\n",
       "</pre>\n"
      ],
      "text/plain": [
       "\u001b[38;2;212;183;2m━━━━━━━━━━━━━━━━━━━━━━━━━━━━━━━━━━━━━━━━━━━━━━━━━━━━━ \u001b[0m\u001b[1mStep \u001b[0m\u001b[1;36m3\u001b[0m\u001b[38;2;212;183;2m ━━━━━━━━━━━━━━━━━━━━━━━━━━━━━━━━━━━━━━━━━━━━━━━━━━━━━━\u001b[0m\n"
      ]
     },
     "metadata": {},
     "output_type": "display_data"
    },
    {
     "data": {
      "text/html": [
       "<pre style=\"white-space:pre;overflow-x:auto;line-height:normal;font-family:Menlo,'DejaVu Sans Mono',consolas,'Courier New',monospace\"> ─ <span style=\"font-weight: bold\">Executing parsed code:</span> ──────────────────────────────────────────────────────────────────────────────────────── \n",
       "  <span style=\"color: #f8f8f2; text-decoration-color: #f8f8f2; background-color: #272822\">combined_idea </span><span style=\"color: #ff4689; text-decoration-color: #ff4689; background-color: #272822\">=</span><span style=\"color: #f8f8f2; text-decoration-color: #f8f8f2; background-color: #272822\"> </span><span style=\"color: #e6db74; text-decoration-color: #e6db74; background-color: #272822\">\"Chill &amp; Sip Café-Spa Party: Create a relaxing and cozy café-spa themed birthday party for the </span>  \n",
       "  <span style=\"color: #e6db74; text-decoration-color: #e6db74; background-color: #272822\">girls. Incorporate comfortable seating, warm lighting, and a calm ambiance with soft music and scented candles.</span>  \n",
       "  <span style=\"color: #e6db74; text-decoration-color: #e6db74; background-color: #272822\">Set up a small area for DIY beauty treatments or massages using essential oils and face masks. Have an open mic</span>  \n",
       "  <span style=\"color: #e6db74; text-decoration-color: #e6db74; background-color: #272822\">corner for music or karaoke and serve gourmet coffee, cupcakes, and healthy snacks. Provide cozy blankets, </span><span style=\"background-color: #272822\">    </span>  \n",
       "  <span style=\"color: #e6db74; text-decoration-color: #e6db74; background-color: #272822\">pillows, and spa-related props for a truly rejuvenating celebration.\"</span><span style=\"background-color: #272822\">                                          </span>  \n",
       "  <span style=\"color: #f8f8f2; text-decoration-color: #f8f8f2; background-color: #272822\">final_answer(combined_idea)</span><span style=\"background-color: #272822\">                                                                                    </span>  \n",
       " ───────────────────────────────────────────────────────────────────────────────────────────────────────────────── \n",
       "</pre>\n"
      ],
      "text/plain": [
       " ─ \u001b[1mExecuting parsed code:\u001b[0m ──────────────────────────────────────────────────────────────────────────────────────── \n",
       "  \u001b[38;2;248;248;242;48;2;39;40;34mcombined_idea\u001b[0m\u001b[38;2;248;248;242;48;2;39;40;34m \u001b[0m\u001b[38;2;255;70;137;48;2;39;40;34m=\u001b[0m\u001b[38;2;248;248;242;48;2;39;40;34m \u001b[0m\u001b[38;2;230;219;116;48;2;39;40;34m\"\u001b[0m\u001b[38;2;230;219;116;48;2;39;40;34mChill & Sip Café-Spa Party: Create a relaxing and cozy café-spa themed birthday party for the \u001b[0m  \n",
       "  \u001b[38;2;230;219;116;48;2;39;40;34mgirls. Incorporate comfortable seating, warm lighting, and a calm ambiance with soft music and scented candles.\u001b[0m  \n",
       "  \u001b[38;2;230;219;116;48;2;39;40;34mSet up a small area for DIY beauty treatments or massages using essential oils and face masks. Have an open mic\u001b[0m  \n",
       "  \u001b[38;2;230;219;116;48;2;39;40;34mcorner for music or karaoke and serve gourmet coffee, cupcakes, and healthy snacks. Provide cozy blankets, \u001b[0m\u001b[48;2;39;40;34m    \u001b[0m  \n",
       "  \u001b[38;2;230;219;116;48;2;39;40;34mpillows, and spa-related props for a truly rejuvenating celebration.\u001b[0m\u001b[38;2;230;219;116;48;2;39;40;34m\"\u001b[0m\u001b[48;2;39;40;34m                                          \u001b[0m  \n",
       "  \u001b[38;2;248;248;242;48;2;39;40;34mfinal_answer\u001b[0m\u001b[38;2;248;248;242;48;2;39;40;34m(\u001b[0m\u001b[38;2;248;248;242;48;2;39;40;34mcombined_idea\u001b[0m\u001b[38;2;248;248;242;48;2;39;40;34m)\u001b[0m\u001b[48;2;39;40;34m                                                                                    \u001b[0m  \n",
       " ───────────────────────────────────────────────────────────────────────────────────────────────────────────────── \n"
      ]
     },
     "metadata": {},
     "output_type": "display_data"
    },
    {
     "data": {
      "text/html": [
       "<pre style=\"white-space:pre;overflow-x:auto;line-height:normal;font-family:Menlo,'DejaVu Sans Mono',consolas,'Courier New',monospace\"><span style=\"color: #d4b702; text-decoration-color: #d4b702; font-weight: bold\">Out - Final answer: Chill &amp; Sip Café-Spa Party: Create a relaxing and cozy café-spa themed birthday party for the </span>\n",
       "<span style=\"color: #d4b702; text-decoration-color: #d4b702; font-weight: bold\">girls. Incorporate comfortable seating, warm lighting, and a calm ambiance with soft music and scented candles. Set</span>\n",
       "<span style=\"color: #d4b702; text-decoration-color: #d4b702; font-weight: bold\">up a small area for DIY beauty treatments or massages using essential oils and face masks. Have an open mic corner </span>\n",
       "<span style=\"color: #d4b702; text-decoration-color: #d4b702; font-weight: bold\">for music or karaoke and serve gourmet coffee, cupcakes, and healthy snacks. Provide cozy blankets, pillows, and </span>\n",
       "<span style=\"color: #d4b702; text-decoration-color: #d4b702; font-weight: bold\">spa-related props for a truly rejuvenating celebration.</span>\n",
       "</pre>\n"
      ],
      "text/plain": [
       "\u001b[1;38;2;212;183;2mOut - Final answer: Chill & Sip Café-Spa Party: Create a relaxing and cozy café-spa themed birthday party for the \u001b[0m\n",
       "\u001b[1;38;2;212;183;2mgirls. Incorporate comfortable seating, warm lighting, and a calm ambiance with soft music and scented candles. Set\u001b[0m\n",
       "\u001b[1;38;2;212;183;2mup a small area for DIY beauty treatments or massages using essential oils and face masks. Have an open mic corner \u001b[0m\n",
       "\u001b[1;38;2;212;183;2mfor music or karaoke and serve gourmet coffee, cupcakes, and healthy snacks. Provide cozy blankets, pillows, and \u001b[0m\n",
       "\u001b[1;38;2;212;183;2mspa-related props for a truly rejuvenating celebration.\u001b[0m\n"
      ]
     },
     "metadata": {},
     "output_type": "display_data"
    },
    {
     "data": {
      "text/html": [
       "<pre style=\"white-space:pre;overflow-x:auto;line-height:normal;font-family:Menlo,'DejaVu Sans Mono',consolas,'Courier New',monospace\"><span style=\"color: #7f7f7f; text-decoration-color: #7f7f7f\">[Step 3: Duration 2.41 seconds| Input tokens: 7,402 | Output tokens: 514]</span>\n",
       "</pre>\n"
      ],
      "text/plain": [
       "\u001b[2m[Step 3: Duration 2.41 seconds| Input tokens: 7,402 | Output tokens: 514]\u001b[0m\n"
      ]
     },
     "metadata": {},
     "output_type": "display_data"
    },
    {
     "name": "stdout",
     "output_type": "stream",
     "text": [
      "Chill & Sip Café-Spa Party: Create a relaxing and cozy café-spa themed birthday party for the girls. Incorporate comfortable seating, warm lighting, and a calm ambiance with soft music and scented candles. Set up a small area for DIY beauty treatments or massages using essential oils and face masks. Have an open mic corner for music or karaoke and serve gourmet coffee, cupcakes, and healthy snacks. Provide cozy blankets, pillows, and spa-related props for a truly rejuvenating celebration.\n"
     ]
    }
   ],
   "source": [
    "class PartyPlanningRetrieverTool(Tool):\n",
    "    name='PartyRetriever'\n",
    "    description=\" Uses semantic search to retrieve relevant and most recent party planning ideas for Katkas party planner.\"\n",
    "    inputs= {\n",
    "        \"query\": \n",
    "            {\n",
    "                \"type\": \"string\",\n",
    "                \"description\": \"The query to search for party planning ideas.\",\n",
    "            }\n",
    "    }\n",
    "    output_type=\"string\"\n",
    "\n",
    "    def __init__(self, docs, **kwargs):\n",
    "        super().__init__(**kwargs)\n",
    "\n",
    "        self.retriever = BM25Retriever.from_documents(\n",
    "            docs,k=5\n",
    "        )\n",
    "\n",
    "\n",
    "    def forward(self, query:str)-> str:\n",
    "        assert isinstance(query, str), \"Query must be a string\"\n",
    "\n",
    "\n",
    "        docs=self.retriever.invoke(query)\n",
    "\n",
    "        return \"\\nRetrieved ideas:\\n\" + \"\".join(\n",
    "            [\n",
    "                f\"\\n\\n===== Idea {str(i)} =====\\n\" + doc.page_content\n",
    "                for i, doc in enumerate(docs)\n",
    "            ]\n",
    "        )\n",
    "    \n",
    "\n",
    "\n",
    "party_ideas = {\n",
    "\n",
    "    \"birthday\": [\n",
    "        \"Floral Garden Party Theme: Celebrate with an abundance of fresh flowers, pastel decorations, and outdoor seating. Guests can enjoy garden games, tea, and a relaxed, nature-inspired atmosphere.\",\n",
    "        \"Beach/Tropical Summer Theme: Bring the beach to your party with tropical plants, bright colors, tiki torches, and a laid-back vibe. Serve fruity drinks and play beach games for a fun summer escape.\",\n",
    "        \"Retro 80s or 90s Theme: Step back in time with neon decorations, disco balls, and classic hits from the era. Encourage guests to dress in vintage outfits and enjoy nostalgic snacks and games.\",\n",
    "        \"Superhero Costume Party: Let everyone become their favorite hero for the night! Decorate with comic book art, cityscapes, and bold colors. Plan activities like a superhero obstacle course or trivia.\",\n",
    "        \"Masquerade Ball: Host an elegant evening with ornate masks, candlelight, and rich fabrics. Set the mood with classical music, ballroom dancing, and a touch of mystery.\"\n",
    "    ],\n",
    "    \"wedding\": [\n",
    "        \"Romantic Garden Wedding Theme: Exchange vows surrounded by blooming flowers, lush greenery, and twinkling fairy lights. Use soft pastels and vintage touches for a dreamy, romantic setting.\",\n",
    "        \"Rustic Barn Wedding: Celebrate in a charming barn with wooden accents, burlap, and wildflowers. Incorporate string lights, mason jars, and a cozy, down-to-earth atmosphere.\",\n",
    "        \"Elegant Winter Wonderland: Transform your venue with white, silver, and icy blue decor, sparkling lights, and faux snow. Add hot chocolate bars and cozy blankets for a magical winter celebration.\",\n",
    "        \"Boho Chic Outdoor Wedding: Embrace a relaxed, bohemian vibe with macramé, pampas grass, and earthy tones. Use rugs, low tables, and lounge areas for a festival-inspired gathering.\",\n",
    "        \"Classic Black-Tie Affair: Go timeless with a formal dress code, crystal chandeliers, and luxurious table settings. Choose a sophisticated color palette and elegant floral arrangements.\"\n",
    "    ],\n",
    "    \"holiday\": [\n",
    "        \"Christmas Winter Wonderland: Create a festive space with snowflakes, twinkling lights, and evergreen garlands. Offer hot drinks, gingerbread, and a cozy, magical holiday atmosphere.\",\n",
    "        \"Halloween Haunted House: Decorate with cobwebs, spooky props, and dramatic lighting. Plan costume contests, themed snacks, and eerie music for a thrilling Halloween night.\",\n",
    "        \"New Year's Eve Glam Party: Ring in the new year with metallic decorations, confetti, and a sparkling dress code. Set up a photo booth, dance floor, and midnight countdown.\",\n",
    "        \"Easter Spring Brunch: Celebrate with pastel colors, fresh flowers, and egg-themed decor. Serve brunch favorites and organize an egg hunt for guests of all ages.\",\n",
    "        \"Valentine's Romantic Soirée: Set a romantic mood with red and pink decor, candlelight, and heart-shaped accents. Offer sweet treats and slow music for couples and friends alike.\"\n",
    "    ],\n",
    "    \"casual_meet-up\": [\n",
    "        \"Coffeehouse Poetry Night: Recreate a cozy café with comfy seating, warm lighting, and an open mic for poetry or music. Serve coffee, pastries, and encourage creative expression.\",\n",
    "        \"Outdoor Picnic & Games: Gather in a park with picnic blankets, baskets of snacks, and lawn games like frisbee or bocce. Enjoy a relaxed, social afternoon in nature.\",\n",
    "        \"Board Game Marathon: Set up tables with a variety of board and card games. Offer snacks and drinks, and let guests rotate between games for a fun, interactive evening.\",\n",
    "        \"Movie Night Under the Stars: Use a projector and screen for an outdoor movie experience. Provide popcorn, blankets, and comfy seating for a memorable night.\",\n",
    "        \"Potluck Dinner Party: Invite guests to bring their favorite dishes to share. Decorate simply, focus on good conversation, and enjoy a diverse, homemade meal together.\"\n",
    "    ],\n",
    "    \"anniversary\": [\n",
    "        \"Vintage Romance Theme: Celebrate love with antique decor, lace tablecloths, and classic love songs. Use candlelight and roses for a timeless, intimate setting.\",\n",
    "        \"Parisian Evening: Transform your space into a Paris café with bistro tables, French pastries, and soft jazz music. Add Eiffel Tower accents and romantic lighting.\",\n",
    "        \"Wine & Cheese Tasting Night: Host a sophisticated evening with a selection of wines and gourmet cheeses. Set up tasting stations and provide pairing notes for guests.\",\n",
    "        \"Stargazing Rooftop Dinner: Dine under the stars with telescopes, fairy lights, and cozy blankets. Serve a romantic meal and enjoy the night sky together.\",\n",
    "        \"Spa and Relaxation Retreat: Create a tranquil atmosphere with soft music, scented candles, and plush robes. Offer massages, facials, and healthy snacks for a rejuvenating celebration.\"\n",
    "    ],\n",
    "}\n",
    "\n",
    "source_docs = [\n",
    "    Document(page_content=idea, metadata={\"source\": category})\n",
    "    for category, ideas in party_ideas.items()\n",
    "    for idea in ideas\n",
    "]\n",
    "\n",
    "\n",
    "text_splitter = RecursiveCharacterTextSplitter(chunk_size=500, chunk_overlap=50,add_start_index=True,strip_whitespace=True,separators=[\"\\n\\n\", \"\\n\", \" \", \"\"])\n",
    "docs = text_splitter.split_documents(source_docs)\n",
    "\n",
    "\n",
    "# retrieval tool\n",
    "party_planner_retriever_tool = PartyPlanningRetrieverTool(docs=docs)\n",
    "\n",
    "\n",
    "# agent\n",
    "\n",
    "agent=CodeAgent(tools=[party_planner_retriever_tool], model=InferenceClientModel())\n",
    "response = agent.run(\"What are some unique and creative party planning ideas to celebrate birthday with my girlies ?\")\n",
    "\n",
    "print(response)\n",
    "\n"
   ]
  },
  {
   "cell_type": "markdown",
   "id": "28fb013b",
   "metadata": {},
   "source": [
    "#### Validation"
   ]
  },
  {
   "cell_type": "code",
   "execution_count": 15,
   "id": "7c344424",
   "metadata": {},
   "outputs": [],
   "source": [
    "def validate_query(query):\n",
    "    if not isinstance(query, str) or not query.strip():\n",
    "        raise ValueError(\"Query must be a non-empty string.\")\n",
    "\n",
    "# 2. Validate party_ideas dictionary structure\n",
    "def validate_party_ideas(party_ideas):\n",
    "    required_keys = [\"birthday\", \"wedding\", \"holiday\", \"casual_meet-up\", \"anniversary\"]\n",
    "    for key in required_keys:\n",
    "        if key not in party_ideas:\n",
    "            raise KeyError(f\"Missing key: {key} in party_ideas.\")\n",
    "        if not isinstance(party_ideas[key], list):\n",
    "            raise TypeError(f\"Value for {key} must be a list.\")\n",
    "\n",
    "# 3. Validate documents before passing to retriever\n",
    "def validate_docs(docs):\n",
    "    if not isinstance(docs, list) or not docs:\n",
    "        raise ValueError(\"Docs must be a non-empty list.\")\n",
    "    for doc in docs:\n",
    "        if not hasattr(doc, \"page_content\"):\n",
    "            raise AttributeError(\"Each doc must have a 'page_content' attribute.\")\n",
    "\n",
    "# Example usage before running the agent:\n",
    "validate_query(\"What are some unique and creative party planning ideas to celebrate birthday with my girlies ?\")\n",
    "validate_party_ideas(party_ideas)\n",
    "validate_docs(docs)"
   ]
  },
  {
   "cell_type": "markdown",
   "id": "c284ae92",
   "metadata": {},
   "source": [
    "-----------------------------------------\n",
    "\n",
    "----------------------------------------"
   ]
  },
  {
   "cell_type": "markdown",
   "id": "ca654987",
   "metadata": {},
   "source": [
    "### *RAG Agents Characteristics*"
   ]
  },
  {
   "cell_type": "markdown",
   "id": "b3c8d145",
   "metadata": {},
   "source": [
    "- `Query Reformulation`: The agent rewrites the user's query to better match the documents.\n",
    "- `Query Decomposition`: If the query has multiple parts, the agent splits it into several simpler queries.\n",
    "- `Query Expansion`: The agent creates different versions of the query to cover more possible matches.\n",
    "- `Reranking`: The agent sorts the results to show the most relevant ones first.\n",
    "- `Multi-Step Retrieval`: The agent can search multiple times, using earlier results to improve later searches.\n",
    "- `Source Integration`: The agent combines information from different sources.\n",
    "- `Result Validation`: The agent checks if the results are relevant and accurate before using them."
   ]
  }
 ],
 "metadata": {
  "kernelspec": {
   "display_name": "base",
   "language": "python",
   "name": "python3"
  },
  "language_info": {
   "codemirror_mode": {
    "name": "ipython",
    "version": 3
   },
   "file_extension": ".py",
   "mimetype": "text/x-python",
   "name": "python",
   "nbconvert_exporter": "python",
   "pygments_lexer": "ipython3",
   "version": "3.12.4"
  }
 },
 "nbformat": 4,
 "nbformat_minor": 5
}
